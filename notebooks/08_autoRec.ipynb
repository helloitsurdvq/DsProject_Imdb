{
 "cells": [
  {
   "cell_type": "markdown",
   "metadata": {},
   "source": [
    "# Dataset preparation"
   ]
  },
  {
   "cell_type": "code",
   "execution_count": 1,
   "metadata": {
    "_cell_guid": "b1076dfc-b9ad-4769-8c92-a6c4dae69d19",
    "_uuid": "8f2839f25d086af736a60e9eeb907d3b93b6e0e5",
    "execution": {
     "iopub.execute_input": "2024-12-17T09:41:53.873587Z",
     "iopub.status.busy": "2024-12-17T09:41:53.873115Z",
     "iopub.status.idle": "2024-12-17T09:41:56.990271Z",
     "shell.execute_reply": "2024-12-17T09:41:56.989393Z",
     "shell.execute_reply.started": "2024-12-17T09:41:53.873553Z"
    },
    "trusted": true
   },
   "outputs": [],
   "source": [
    "import numpy as np\n",
    "import pandas as pd\n",
    "import math\n",
    "from itertools import product\n",
    "from tqdm import tqdm\n",
    "import pickle\n",
    "import csv\n",
    "from matplotlib import pyplot as plt\n",
    "import urllib\n",
    "from PIL import Image\n",
    "\n",
    "import torch\n",
    "import torch.nn as nn\n",
    "import torch.optim as optim\n",
    "from torch.utils.data import Dataset\n",
    "from torch.utils.data import DataLoader"
   ]
  },
  {
   "cell_type": "code",
   "execution_count": 2,
   "metadata": {
    "execution": {
     "iopub.execute_input": "2024-12-17T09:41:56.992215Z",
     "iopub.status.busy": "2024-12-17T09:41:56.991876Z",
     "iopub.status.idle": "2024-12-17T09:41:56.996171Z",
     "shell.execute_reply": "2024-12-17T09:41:56.995310Z",
     "shell.execute_reply.started": "2024-12-17T09:41:56.992189Z"
    },
    "trusted": true
   },
   "outputs": [],
   "source": [
    "# To ignore warinings\n",
    "import warnings\n",
    "warnings.filterwarnings('ignore')"
   ]
  },
  {
   "cell_type": "code",
   "execution_count": 3,
   "metadata": {
    "execution": {
     "iopub.execute_input": "2024-12-17T09:41:56.997473Z",
     "iopub.status.busy": "2024-12-17T09:41:56.997174Z",
     "iopub.status.idle": "2024-12-17T09:41:57.559245Z",
     "shell.execute_reply": "2024-12-17T09:41:57.558420Z",
     "shell.execute_reply.started": "2024-12-17T09:41:56.997435Z"
    },
    "trusted": true
   },
   "outputs": [
    {
     "data": {
      "text/html": [
       "<div>\n",
       "<style scoped>\n",
       "    .dataframe tbody tr th:only-of-type {\n",
       "        vertical-align: middle;\n",
       "    }\n",
       "\n",
       "    .dataframe tbody tr th {\n",
       "        vertical-align: top;\n",
       "    }\n",
       "\n",
       "    .dataframe thead th {\n",
       "        text-align: right;\n",
       "    }\n",
       "</style>\n",
       "<table border=\"1\" class=\"dataframe\">\n",
       "  <thead>\n",
       "    <tr style=\"text-align: right;\">\n",
       "      <th></th>\n",
       "      <th>userID</th>\n",
       "      <th>movieID</th>\n",
       "      <th>rating</th>\n",
       "    </tr>\n",
       "  </thead>\n",
       "  <tbody>\n",
       "    <tr>\n",
       "      <th>0</th>\n",
       "      <td>ur127508339</td>\n",
       "      <td>tt7737800</td>\n",
       "      <td>8</td>\n",
       "    </tr>\n",
       "    <tr>\n",
       "      <th>1</th>\n",
       "      <td>ur6312156</td>\n",
       "      <td>tt7737800</td>\n",
       "      <td>8</td>\n",
       "    </tr>\n",
       "    <tr>\n",
       "      <th>2</th>\n",
       "      <td>ur150453978</td>\n",
       "      <td>tt7737800</td>\n",
       "      <td>1</td>\n",
       "    </tr>\n",
       "    <tr>\n",
       "      <th>3</th>\n",
       "      <td>ur18519281</td>\n",
       "      <td>tt7737800</td>\n",
       "      <td>3</td>\n",
       "    </tr>\n",
       "    <tr>\n",
       "      <th>4</th>\n",
       "      <td>ur0806494</td>\n",
       "      <td>tt7737800</td>\n",
       "      <td>7</td>\n",
       "    </tr>\n",
       "  </tbody>\n",
       "</table>\n",
       "</div>"
      ],
      "text/plain": [
       "        userID    movieID  rating\n",
       "0  ur127508339  tt7737800       8\n",
       "1    ur6312156  tt7737800       8\n",
       "2  ur150453978  tt7737800       1\n",
       "3   ur18519281  tt7737800       3\n",
       "4    ur0806494  tt7737800       7"
      ]
     },
     "execution_count": 3,
     "metadata": {},
     "output_type": "execute_result"
    }
   ],
   "source": [
    "rating_df = pd.read_csv('../data/cleaned/cleaned_user_rating.csv')\n",
    "rating_df_copy = rating_df.copy()\n",
    "movies_df = pd.read_csv('../data/cleaned/cleaned_movies_details.csv', usecols=['movie_id', 'title', 'img_url'])\n",
    "\n",
    "rating_df_copy.head()"
   ]
  },
  {
   "cell_type": "code",
   "execution_count": 4,
   "metadata": {
    "execution": {
     "iopub.execute_input": "2024-12-17T09:41:57.560944Z",
     "iopub.status.busy": "2024-12-17T09:41:57.560581Z",
     "iopub.status.idle": "2024-12-17T09:41:57.742907Z",
     "shell.execute_reply": "2024-12-17T09:41:57.741813Z",
     "shell.execute_reply.started": "2024-12-17T09:41:57.560906Z"
    },
    "trusted": true
   },
   "outputs": [
    {
     "data": {
      "text/html": [
       "<div>\n",
       "<style scoped>\n",
       "    .dataframe tbody tr th:only-of-type {\n",
       "        vertical-align: middle;\n",
       "    }\n",
       "\n",
       "    .dataframe tbody tr th {\n",
       "        vertical-align: top;\n",
       "    }\n",
       "\n",
       "    .dataframe thead th {\n",
       "        text-align: right;\n",
       "    }\n",
       "</style>\n",
       "<table border=\"1\" class=\"dataframe\">\n",
       "  <thead>\n",
       "    <tr style=\"text-align: right;\">\n",
       "      <th></th>\n",
       "      <th>userID_number</th>\n",
       "      <th>movieID_number</th>\n",
       "      <th>rating</th>\n",
       "    </tr>\n",
       "  </thead>\n",
       "  <tbody>\n",
       "    <tr>\n",
       "      <th>0</th>\n",
       "      <td>0</td>\n",
       "      <td>0</td>\n",
       "      <td>8</td>\n",
       "    </tr>\n",
       "    <tr>\n",
       "      <th>1</th>\n",
       "      <td>1</td>\n",
       "      <td>0</td>\n",
       "      <td>8</td>\n",
       "    </tr>\n",
       "    <tr>\n",
       "      <th>2</th>\n",
       "      <td>2</td>\n",
       "      <td>0</td>\n",
       "      <td>1</td>\n",
       "    </tr>\n",
       "    <tr>\n",
       "      <th>3</th>\n",
       "      <td>3</td>\n",
       "      <td>0</td>\n",
       "      <td>3</td>\n",
       "    </tr>\n",
       "    <tr>\n",
       "      <th>4</th>\n",
       "      <td>4</td>\n",
       "      <td>0</td>\n",
       "      <td>7</td>\n",
       "    </tr>\n",
       "  </tbody>\n",
       "</table>\n",
       "</div>"
      ],
      "text/plain": [
       "   userID_number  movieID_number  rating\n",
       "0              0               0       8\n",
       "1              1               0       8\n",
       "2              2               0       1\n",
       "3              3               0       3\n",
       "4              4               0       7"
      ]
     },
     "execution_count": 4,
     "metadata": {},
     "output_type": "execute_result"
    }
   ],
   "source": [
    "rating_df_copy['user_id_number'], user_mapping = pd.factorize(rating_df_copy['user_id'])\n",
    "rating_df_copy['movie_id_number'], movie_mapping = pd.factorize(rating_df_copy['movie_id'])\n",
    "assert(rating_df_copy['user_id_number'].nunique() == rating_df_copy['user_id'].nunique())\n",
    "assert(rating_df_copy['movie_id_number'].nunique() == rating_df_copy['movie_id'].nunique())\n",
    "\n",
    "rating_df_copy = rating_df_copy[['user_id_number', 'movie_id_number', 'rating']]\n",
    "rating_df_copy.head()"
   ]
  },
  {
   "cell_type": "code",
   "execution_count": 5,
   "metadata": {
    "execution": {
     "iopub.execute_input": "2024-12-17T09:41:57.746995Z",
     "iopub.status.busy": "2024-12-17T09:41:57.745931Z",
     "iopub.status.idle": "2024-12-17T09:41:57.755223Z",
     "shell.execute_reply": "2024-12-17T09:41:57.754013Z",
     "shell.execute_reply.started": "2024-12-17T09:41:57.746945Z"
    },
    "trusted": true
   },
   "outputs": [
    {
     "name": "stdout",
     "output_type": "stream",
     "text": [
      "Number of users:  173693\n",
      "Number of movies:  18662\n"
     ]
    }
   ],
   "source": [
    "n_users = rating_df_copy['user_id_number'].max() + 1\n",
    "n_movies = rating_df_copy['movie_id_number'].max() + 1\n",
    "print(\"Number of users: \", n_users)\n",
    "print(\"Number of movies: \", n_movies)"
   ]
  },
  {
   "cell_type": "code",
   "execution_count": 6,
   "metadata": {
    "execution": {
     "iopub.execute_input": "2024-12-17T09:41:57.756718Z",
     "iopub.status.busy": "2024-12-17T09:41:57.756396Z",
     "iopub.status.idle": "2024-12-17T09:41:58.005997Z",
     "shell.execute_reply": "2024-12-17T09:41:58.004838Z",
     "shell.execute_reply.started": "2024-12-17T09:41:57.756690Z"
    },
    "trusted": true
   },
   "outputs": [],
   "source": [
    "user_id_to_number = {user_mapping[i]: i for i in range(len(user_mapping))}\n",
    "movie_id_to_number = {movie_mapping[i]: i for i in range(len(movie_mapping))}\n",
    "number_to_user_id = {i: user_mapping[i] for i in range(len(user_mapping))}\n",
    "number_to_movie_id = {i: movie_mapping[i] for i in range(len(movie_mapping))}"
   ]
  },
  {
   "cell_type": "code",
   "execution_count": 7,
   "metadata": {
    "execution": {
     "iopub.execute_input": "2024-12-17T09:41:58.007599Z",
     "iopub.status.busy": "2024-12-17T09:41:58.007233Z",
     "iopub.status.idle": "2024-12-17T09:41:58.013709Z",
     "shell.execute_reply": "2024-12-17T09:41:58.012539Z",
     "shell.execute_reply.started": "2024-12-17T09:41:58.007568Z"
    },
    "trusted": true
   },
   "outputs": [
    {
     "name": "stdout",
     "output_type": "stream",
     "text": [
      "UserID number:  1\n",
      "MovieID number:  18660\n"
     ]
    }
   ],
   "source": [
    "user_id = 'ur6312156'\n",
    "user_id_number = user_id_to_number[user_id]\n",
    "print('User_id number: ', user_id_number)\n",
    "assert(number_to_user_id[user_id_number] == user_id)\n",
    "\n",
    "movie_id = 'tt0062292'\n",
    "movie_id_number = movie_id_to_number[movie_id]\n",
    "print('Movie_id number: ', movie_id_number)\n",
    "assert(number_to_movie_id[movie_id_number] == movie_id)"
   ]
  },
  {
   "cell_type": "code",
   "execution_count": 8,
   "metadata": {
    "execution": {
     "iopub.execute_input": "2024-12-17T09:41:58.015241Z",
     "iopub.status.busy": "2024-12-17T09:41:58.014854Z",
     "iopub.status.idle": "2024-12-17T09:41:58.033204Z",
     "shell.execute_reply": "2024-12-17T09:41:58.032499Z",
     "shell.execute_reply.started": "2024-12-17T09:41:58.015214Z"
    },
    "trusted": true
   },
   "outputs": [],
   "source": [
    "new_id_start = n_movies\n",
    "\n",
    "# Function to assign or create a movie_id_number\n",
    "def assign_movie_id_number(movie_id):\n",
    "    global new_id_start\n",
    "    if movie_id not in movie_id_to_number:\n",
    "        movie_id_to_number[movie_id] = new_id_start\n",
    "        number_to_movie_id[new_id_start] = movie_id\n",
    "        new_id_start += 1\n",
    "    return movie_id_to_number[movie_id]\n",
    "\n",
    "# Apply the function to create the 'movie_id_number' column\n",
    "movies_df['movie_id_number'] = movies_df['movie_id'].apply(assign_movie_id_number)"
   ]
  },
  {
   "cell_type": "code",
   "execution_count": 9,
   "metadata": {
    "execution": {
     "iopub.execute_input": "2024-12-17T09:41:58.034322Z",
     "iopub.status.busy": "2024-12-17T09:41:58.034072Z",
     "iopub.status.idle": "2024-12-17T09:41:58.052541Z",
     "shell.execute_reply": "2024-12-17T09:41:58.051517Z",
     "shell.execute_reply.started": "2024-12-17T09:41:58.034297Z"
    },
    "trusted": true
   },
   "outputs": [
    {
     "data": {
      "text/plain": [
       "array([[0, 0, 8],\n",
       "       [1, 0, 8],\n",
       "       [2, 0, 1],\n",
       "       [3, 0, 3],\n",
       "       [4, 0, 7]])"
      ]
     },
     "execution_count": 9,
     "metadata": {},
     "output_type": "execute_result"
    }
   ],
   "source": [
    "rating_data = rating_df_copy.to_numpy()\n",
    "rating_data[:5]"
   ]
  },
  {
   "cell_type": "code",
   "execution_count": 10,
   "metadata": {
    "execution": {
     "iopub.execute_input": "2024-12-17T09:41:58.054026Z",
     "iopub.status.busy": "2024-12-17T09:41:58.053755Z",
     "iopub.status.idle": "2024-12-17T09:41:58.061679Z",
     "shell.execute_reply": "2024-12-17T09:41:58.060658Z",
     "shell.execute_reply.started": "2024-12-17T09:41:58.053999Z"
    },
    "trusted": true
   },
   "outputs": [],
   "source": [
    "def split_ratings_by_user(data, train_ratio=0.6, val_ratio=0.2, random_state=420):\n",
    "    \"\"\"\n",
    "    Split ratings for each user into train, validation, and test sets\n",
    "    with 60:20:20 split and maintaining rating count distribution.\n",
    "    \"\"\"\n",
    "    np.random.seed(random_state)\n",
    "    \n",
    "    # Initialize empty lists for split data\n",
    "    train_data_list, val_data_list, test_data_list = [], [], []\n",
    "    \n",
    "    # Group ratings by user using a dictionary for better efficiency\n",
    "    user_groups = {}\n",
    "    for row in data:\n",
    "        user_groups.setdefault(row[0], []).append(row)\n",
    "    \n",
    "    for user_ratings in user_groups.values():\n",
    "        user_ratings = np.array(user_ratings)\n",
    "        total_ratings = len(user_ratings)\n",
    "        \n",
    "        # Shuffle user ratings to ensure randomness\n",
    "        np.random.shuffle(user_ratings)\n",
    "        \n",
    "        # Calculate split indices\n",
    "        train_end = math.ceil(total_ratings * train_ratio)\n",
    "        val_end = train_end + math.ceil(total_ratings * val_ratio)\n",
    "        \n",
    "        # Append splits\n",
    "        train_data_list.append(user_ratings[:train_end])\n",
    "        val_data_list.append(user_ratings[train_end:val_end])\n",
    "        test_data_list.append(user_ratings[val_end:])\n",
    "    \n",
    "    # Concatenate all users' split data\n",
    "    train_data = np.vstack(train_data_list)\n",
    "    val_data = np.vstack(val_data_list)\n",
    "    test_data = np.vstack(test_data_list)\n",
    "    \n",
    "    return train_data, val_data, test_data"
   ]
  },
  {
   "cell_type": "code",
   "execution_count": 11,
   "metadata": {
    "execution": {
     "iopub.execute_input": "2024-12-17T09:41:58.063565Z",
     "iopub.status.busy": "2024-12-17T09:41:58.063178Z",
     "iopub.status.idle": "2024-12-17T09:41:59.876002Z",
     "shell.execute_reply": "2024-12-17T09:41:59.875255Z",
     "shell.execute_reply.started": "2024-12-17T09:41:58.063515Z"
    },
    "trusted": true
   },
   "outputs": [],
   "source": [
    "train_data, val_data, test_data = split_ratings_by_user(rating_data)"
   ]
  },
  {
   "cell_type": "markdown",
   "metadata": {},
   "source": [
    "# AutoRec"
   ]
  },
  {
   "cell_type": "code",
   "execution_count": 12,
   "metadata": {
    "execution": {
     "iopub.execute_input": "2024-12-17T09:41:59.877824Z",
     "iopub.status.busy": "2024-12-17T09:41:59.877425Z",
     "iopub.status.idle": "2024-12-17T09:41:59.882975Z",
     "shell.execute_reply": "2024-12-17T09:41:59.882058Z",
     "shell.execute_reply.started": "2024-12-17T09:41:59.877783Z"
    },
    "trusted": true
   },
   "outputs": [],
   "source": [
    "# Shape: (n_movies, n_users)\n",
    "def create_interaction_matrix(data, n_users, n_movies):\n",
    "    interaction_matrix = np.zeros((n_movies, n_users))\n",
    "    for user, movie, rating in data:\n",
    "        interaction_matrix[int(movie), int(user)] = rating\n",
    "    return interaction_matrix"
   ]
  },
  {
   "cell_type": "code",
   "execution_count": 13,
   "metadata": {
    "execution": {
     "iopub.execute_input": "2024-12-17T09:41:59.884431Z",
     "iopub.status.busy": "2024-12-17T09:41:59.884054Z",
     "iopub.status.idle": "2024-12-17T09:42:00.902224Z",
     "shell.execute_reply": "2024-12-17T09:42:00.901543Z",
     "shell.execute_reply.started": "2024-12-17T09:41:59.884391Z"
    },
    "trusted": true
   },
   "outputs": [],
   "source": [
    "# Create the interaction matrix for training and test data\n",
    "train_matrix = create_interaction_matrix(train_data, n_users, n_movies)\n",
    "test_matrix = create_interaction_matrix(test_data, n_users, n_movies)"
   ]
  },
  {
   "cell_type": "code",
   "execution_count": 14,
   "metadata": {
    "execution": {
     "iopub.execute_input": "2024-12-17T09:42:00.905033Z",
     "iopub.status.busy": "2024-12-17T09:42:00.904759Z",
     "iopub.status.idle": "2024-12-17T09:42:00.911762Z",
     "shell.execute_reply": "2024-12-17T09:42:00.910873Z",
     "shell.execute_reply.started": "2024-12-17T09:42:00.905009Z"
    },
    "trusted": true
   },
   "outputs": [],
   "source": [
    "# User-user AutoRec\n",
    "class AutoRec(nn.Module):\n",
    "    def __init__(self, n_users, n_embed, dropout=0.5):\n",
    "        super(AutoRec, self).__init__()\n",
    "        self.n_users = n_users\n",
    "        self.model = nn.Sequential(\n",
    "            nn.Linear(n_users, n_embed, bias=True),\n",
    "            nn.Sigmoid(),\n",
    "            nn.Dropout(dropout),\n",
    "            nn.Linear(n_embed, n_users, bias=True)\n",
    "        )\n",
    "\n",
    "        self.init_parameters()  # Initialize weights and biases\n",
    "\n",
    "    def init_parameters(self):\n",
    "        # Apply Xavier initialization to all linear layers\n",
    "        for layer in self.model:\n",
    "            if isinstance(layer, nn.Linear):\n",
    "                nn.init.xavier_uniform_(layer.weight)  # Xavier Uniform for weights\n",
    "                if layer.bias is not None:\n",
    "                    nn.init.zeros_(layer.bias)  # Initialize biases to zero\n",
    "                    \n",
    "    def save_model(self, path):\n",
    "        torch.save(model.state_dict(), path)\n",
    "        \n",
    "    def load_model(self, path):\n",
    "        model.load_state_dict(torch.load(path, map_location=torch.device('cpu')))\n",
    "    \n",
    "    def forward(self, input):\n",
    "        return self.model(input)       "
   ]
  },
  {
   "cell_type": "code",
   "execution_count": 15,
   "metadata": {
    "execution": {
     "iopub.execute_input": "2024-12-17T09:42:00.913461Z",
     "iopub.status.busy": "2024-12-17T09:42:00.913124Z",
     "iopub.status.idle": "2024-12-17T09:42:00.921218Z",
     "shell.execute_reply": "2024-12-17T09:42:00.920471Z",
     "shell.execute_reply.started": "2024-12-17T09:42:00.913426Z"
    },
    "trusted": true
   },
   "outputs": [],
   "source": [
    "class AutoRecDataset(Dataset):\n",
    "    def __init__(self, interaction_matrix):\n",
    "        self.data = interaction_matrix\n",
    "        self.n_movies, self.n_users = interaction_matrix.shape\n",
    "\n",
    "    def __len__(self):\n",
    "        return self.n_movies\n",
    "\n",
    "    def __getitem__(self, idx):\n",
    "        user_vector = self.data[idx]\n",
    "        return torch.tensor(user_vector, dtype=torch.float32)"
   ]
  },
  {
   "cell_type": "code",
   "execution_count": 16,
   "metadata": {
    "execution": {
     "iopub.execute_input": "2024-12-17T09:42:00.922727Z",
     "iopub.status.busy": "2024-12-17T09:42:00.922433Z",
     "iopub.status.idle": "2024-12-17T09:42:00.930189Z",
     "shell.execute_reply": "2024-12-17T09:42:00.929530Z",
     "shell.execute_reply.started": "2024-12-17T09:42:00.922690Z"
    },
    "trusted": true
   },
   "outputs": [],
   "source": [
    "# Training the model\n",
    "def train(model, trainloader, criterion, optimizer, epochs):\n",
    "    device = 'cuda' if torch.cuda.is_available() else 'cpu'\n",
    "    model = model.to(device)\n",
    "    model.train()\n",
    "    \n",
    "    for epoch in range(epochs):\n",
    "        epoch_loss = 0\n",
    "        pbar = tqdm(enumerate(trainloader), total=len(trainloader), desc=f\"Epoch {epoch+1}/{epochs}\")\n",
    "        \n",
    "        for it, movie_vector in pbar:\n",
    "            movie_vector = movie_vector.to(device) # Shape: (batch_size, n_users)\n",
    "            \n",
    "            # Forward pass\n",
    "            preds = model(movie_vector)\n",
    "\n",
    "            # Calculate loss (we compare predictions to the original ratings, which are the user vector itself)\n",
    "            loss = criterion(preds * torch.sign(movie_vector), movie_vector) / torch.sign(movie_vector).sum()\n",
    "            epoch_loss += loss.item()\n",
    "\n",
    "            # Backward pass and optimization\n",
    "            optimizer.zero_grad()\n",
    "            loss.backward()\n",
    "            optimizer.step()\n",
    "\n",
    "            pbar.set_postfix(loss=loss.item())\n",
    "        print(f\"Epoch {epoch+1} Loss: {epoch_loss / len(trainloader)}\")"
   ]
  },
  {
   "cell_type": "code",
   "execution_count": 17,
   "metadata": {
    "execution": {
     "iopub.execute_input": "2024-12-17T09:42:00.931498Z",
     "iopub.status.busy": "2024-12-17T09:42:00.931188Z",
     "iopub.status.idle": "2024-12-17T09:56:29.272595Z",
     "shell.execute_reply": "2024-12-17T09:56:29.271264Z",
     "shell.execute_reply.started": "2024-12-17T09:42:00.931473Z"
    },
    "trusted": true
   },
   "outputs": [
    {
     "name": "stderr",
     "output_type": "stream",
     "text": [
      "Epoch 1/50: 100%|██████████| 292/292 [00:22<00:00, 12.77it/s, loss=36.4]\n"
     ]
    },
    {
     "name": "stdout",
     "output_type": "stream",
     "text": [
      "Epoch 1 Loss: 37.77017334062759\n"
     ]
    },
    {
     "name": "stderr",
     "output_type": "stream",
     "text": [
      "Epoch 2/50: 100%|██████████| 292/292 [00:17<00:00, 17.16it/s, loss=27.1]\n"
     ]
    },
    {
     "name": "stdout",
     "output_type": "stream",
     "text": [
      "Epoch 2 Loss: 28.59861466002791\n"
     ]
    },
    {
     "name": "stderr",
     "output_type": "stream",
     "text": [
      "Epoch 3/50: 100%|██████████| 292/292 [00:17<00:00, 17.03it/s, loss=21.6]\n"
     ]
    },
    {
     "name": "stdout",
     "output_type": "stream",
     "text": [
      "Epoch 3 Loss: 22.161762779706144\n"
     ]
    },
    {
     "name": "stderr",
     "output_type": "stream",
     "text": [
      "Epoch 4/50: 100%|██████████| 292/292 [00:16<00:00, 17.22it/s, loss=18.8]\n"
     ]
    },
    {
     "name": "stdout",
     "output_type": "stream",
     "text": [
      "Epoch 4 Loss: 17.28366712021501\n"
     ]
    },
    {
     "name": "stderr",
     "output_type": "stream",
     "text": [
      "Epoch 5/50: 100%|██████████| 292/292 [00:17<00:00, 16.93it/s, loss=13.7]\n"
     ]
    },
    {
     "name": "stdout",
     "output_type": "stream",
     "text": [
      "Epoch 5 Loss: 13.664676966732495\n"
     ]
    },
    {
     "name": "stderr",
     "output_type": "stream",
     "text": [
      "Epoch 6/50: 100%|██████████| 292/292 [00:17<00:00, 16.97it/s, loss=11.7]\n"
     ]
    },
    {
     "name": "stdout",
     "output_type": "stream",
     "text": [
      "Epoch 6 Loss: 11.001155281720097\n"
     ]
    },
    {
     "name": "stderr",
     "output_type": "stream",
     "text": [
      "Epoch 7/50: 100%|██████████| 292/292 [00:17<00:00, 17.04it/s, loss=10.6]\n"
     ]
    },
    {
     "name": "stdout",
     "output_type": "stream",
     "text": [
      "Epoch 7 Loss: 9.080464612947752\n"
     ]
    },
    {
     "name": "stderr",
     "output_type": "stream",
     "text": [
      "Epoch 8/50: 100%|██████████| 292/292 [00:17<00:00, 16.91it/s, loss=8.27]\n"
     ]
    },
    {
     "name": "stdout",
     "output_type": "stream",
     "text": [
      "Epoch 8 Loss: 7.706886549518533\n"
     ]
    },
    {
     "name": "stderr",
     "output_type": "stream",
     "text": [
      "Epoch 9/50: 100%|██████████| 292/292 [00:17<00:00, 17.16it/s, loss=6.84]\n"
     ]
    },
    {
     "name": "stdout",
     "output_type": "stream",
     "text": [
      "Epoch 9 Loss: 6.7466292609907175\n"
     ]
    },
    {
     "name": "stderr",
     "output_type": "stream",
     "text": [
      "Epoch 10/50: 100%|██████████| 292/292 [00:17<00:00, 16.89it/s, loss=5.99]\n"
     ]
    },
    {
     "name": "stdout",
     "output_type": "stream",
     "text": [
      "Epoch 10 Loss: 6.057437238627917\n"
     ]
    },
    {
     "name": "stderr",
     "output_type": "stream",
     "text": [
      "Epoch 11/50: 100%|██████████| 292/292 [00:17<00:00, 16.99it/s, loss=6.51]\n"
     ]
    },
    {
     "name": "stdout",
     "output_type": "stream",
     "text": [
      "Epoch 11 Loss: 5.593229238301108\n"
     ]
    },
    {
     "name": "stderr",
     "output_type": "stream",
     "text": [
      "Epoch 12/50: 100%|██████████| 292/292 [00:17<00:00, 16.89it/s, loss=5.51]\n"
     ]
    },
    {
     "name": "stdout",
     "output_type": "stream",
     "text": [
      "Epoch 12 Loss: 5.298122748936692\n"
     ]
    },
    {
     "name": "stderr",
     "output_type": "stream",
     "text": [
      "Epoch 13/50: 100%|██████████| 292/292 [00:17<00:00, 17.07it/s, loss=5.48]\n"
     ]
    },
    {
     "name": "stdout",
     "output_type": "stream",
     "text": [
      "Epoch 13 Loss: 5.0838379549653565\n"
     ]
    },
    {
     "name": "stderr",
     "output_type": "stream",
     "text": [
      "Epoch 14/50: 100%|██████████| 292/292 [00:17<00:00, 16.91it/s, loss=5.34]\n"
     ]
    },
    {
     "name": "stdout",
     "output_type": "stream",
     "text": [
      "Epoch 14 Loss: 4.958191619343953\n"
     ]
    },
    {
     "name": "stderr",
     "output_type": "stream",
     "text": [
      "Epoch 15/50: 100%|██████████| 292/292 [00:17<00:00, 17.08it/s, loss=5.98]\n"
     ]
    },
    {
     "name": "stdout",
     "output_type": "stream",
     "text": [
      "Epoch 15 Loss: 4.878322500072113\n"
     ]
    },
    {
     "name": "stderr",
     "output_type": "stream",
     "text": [
      "Epoch 16/50: 100%|██████████| 292/292 [00:17<00:00, 16.90it/s, loss=5.56]\n"
     ]
    },
    {
     "name": "stdout",
     "output_type": "stream",
     "text": [
      "Epoch 16 Loss: 4.844496690247157\n"
     ]
    },
    {
     "name": "stderr",
     "output_type": "stream",
     "text": [
      "Epoch 17/50: 100%|██████████| 292/292 [00:17<00:00, 17.06it/s, loss=4.89]\n"
     ]
    },
    {
     "name": "stdout",
     "output_type": "stream",
     "text": [
      "Epoch 17 Loss: 4.815044950132501\n"
     ]
    },
    {
     "name": "stderr",
     "output_type": "stream",
     "text": [
      "Epoch 18/50: 100%|██████████| 292/292 [00:17<00:00, 17.03it/s, loss=5.62]\n"
     ]
    },
    {
     "name": "stdout",
     "output_type": "stream",
     "text": [
      "Epoch 18 Loss: 4.837248328613908\n"
     ]
    },
    {
     "name": "stderr",
     "output_type": "stream",
     "text": [
      "Epoch 19/50: 100%|██████████| 292/292 [00:17<00:00, 16.85it/s, loss=6.13]\n"
     ]
    },
    {
     "name": "stdout",
     "output_type": "stream",
     "text": [
      "Epoch 19 Loss: 4.8180368338545705\n"
     ]
    },
    {
     "name": "stderr",
     "output_type": "stream",
     "text": [
      "Epoch 20/50: 100%|██████████| 292/292 [00:17<00:00, 17.04it/s, loss=5.94]\n"
     ]
    },
    {
     "name": "stdout",
     "output_type": "stream",
     "text": [
      "Epoch 20 Loss: 4.81011698588933\n"
     ]
    },
    {
     "name": "stderr",
     "output_type": "stream",
     "text": [
      "Epoch 21/50: 100%|██████████| 292/292 [00:17<00:00, 16.92it/s, loss=4.95]\n"
     ]
    },
    {
     "name": "stdout",
     "output_type": "stream",
     "text": [
      "Epoch 21 Loss: 4.836051862533778\n"
     ]
    },
    {
     "name": "stderr",
     "output_type": "stream",
     "text": [
      "Epoch 22/50: 100%|██████████| 292/292 [00:17<00:00, 17.06it/s, loss=6.58]\n"
     ]
    },
    {
     "name": "stdout",
     "output_type": "stream",
     "text": [
      "Epoch 22 Loss: 4.833446444713906\n"
     ]
    },
    {
     "name": "stderr",
     "output_type": "stream",
     "text": [
      "Epoch 23/50: 100%|██████████| 292/292 [00:17<00:00, 16.89it/s, loss=6.12]\n"
     ]
    },
    {
     "name": "stdout",
     "output_type": "stream",
     "text": [
      "Epoch 23 Loss: 4.855752953927811\n"
     ]
    },
    {
     "name": "stderr",
     "output_type": "stream",
     "text": [
      "Epoch 24/50: 100%|██████████| 292/292 [00:17<00:00, 17.09it/s, loss=5.24]\n"
     ]
    },
    {
     "name": "stdout",
     "output_type": "stream",
     "text": [
      "Epoch 24 Loss: 4.844765690091538\n"
     ]
    },
    {
     "name": "stderr",
     "output_type": "stream",
     "text": [
      "Epoch 25/50: 100%|██████████| 292/292 [00:17<00:00, 16.94it/s, loss=5.63]\n"
     ]
    },
    {
     "name": "stdout",
     "output_type": "stream",
     "text": [
      "Epoch 25 Loss: 4.857727431271174\n"
     ]
    },
    {
     "name": "stderr",
     "output_type": "stream",
     "text": [
      "Epoch 26/50: 100%|██████████| 292/292 [00:17<00:00, 17.07it/s, loss=5.45]\n"
     ]
    },
    {
     "name": "stdout",
     "output_type": "stream",
     "text": [
      "Epoch 26 Loss: 4.85382077220368\n"
     ]
    },
    {
     "name": "stderr",
     "output_type": "stream",
     "text": [
      "Epoch 27/50: 100%|██████████| 292/292 [00:17<00:00, 16.78it/s, loss=5.71]\n"
     ]
    },
    {
     "name": "stdout",
     "output_type": "stream",
     "text": [
      "Epoch 27 Loss: 4.837745431351335\n"
     ]
    },
    {
     "name": "stderr",
     "output_type": "stream",
     "text": [
      "Epoch 28/50: 100%|██████████| 292/292 [00:17<00:00, 17.04it/s, loss=5.62]\n"
     ]
    },
    {
     "name": "stdout",
     "output_type": "stream",
     "text": [
      "Epoch 28 Loss: 4.864205460842341\n"
     ]
    },
    {
     "name": "stderr",
     "output_type": "stream",
     "text": [
      "Epoch 29/50: 100%|██████████| 292/292 [00:17<00:00, 16.79it/s, loss=5.89]\n"
     ]
    },
    {
     "name": "stdout",
     "output_type": "stream",
     "text": [
      "Epoch 29 Loss: 4.825296226429613\n"
     ]
    },
    {
     "name": "stderr",
     "output_type": "stream",
     "text": [
      "Epoch 30/50: 100%|██████████| 292/292 [00:17<00:00, 16.83it/s, loss=5.67]\n"
     ]
    },
    {
     "name": "stdout",
     "output_type": "stream",
     "text": [
      "Epoch 30 Loss: 4.847134463591118\n"
     ]
    },
    {
     "name": "stderr",
     "output_type": "stream",
     "text": [
      "Epoch 31/50: 100%|██████████| 292/292 [00:17<00:00, 17.00it/s, loss=5.38]\n"
     ]
    },
    {
     "name": "stdout",
     "output_type": "stream",
     "text": [
      "Epoch 31 Loss: 4.825492251409243\n"
     ]
    },
    {
     "name": "stderr",
     "output_type": "stream",
     "text": [
      "Epoch 32/50: 100%|██████████| 292/292 [00:17<00:00, 16.80it/s, loss=6.11]\n"
     ]
    },
    {
     "name": "stdout",
     "output_type": "stream",
     "text": [
      "Epoch 32 Loss: 4.836482584476471\n"
     ]
    },
    {
     "name": "stderr",
     "output_type": "stream",
     "text": [
      "Epoch 33/50: 100%|██████████| 292/292 [00:17<00:00, 17.05it/s, loss=5.01]\n"
     ]
    },
    {
     "name": "stdout",
     "output_type": "stream",
     "text": [
      "Epoch 33 Loss: 4.7996935909741545\n"
     ]
    },
    {
     "name": "stderr",
     "output_type": "stream",
     "text": [
      "Epoch 34/50: 100%|██████████| 292/292 [00:17<00:00, 16.80it/s, loss=5.42]\n"
     ]
    },
    {
     "name": "stdout",
     "output_type": "stream",
     "text": [
      "Epoch 34 Loss: 4.780444787789698\n"
     ]
    },
    {
     "name": "stderr",
     "output_type": "stream",
     "text": [
      "Epoch 35/50: 100%|██████████| 292/292 [00:17<00:00, 16.95it/s, loss=5.24]\n"
     ]
    },
    {
     "name": "stdout",
     "output_type": "stream",
     "text": [
      "Epoch 35 Loss: 4.758228048886338\n"
     ]
    },
    {
     "name": "stderr",
     "output_type": "stream",
     "text": [
      "Epoch 36/50: 100%|██████████| 292/292 [00:17<00:00, 16.87it/s, loss=5.93]\n"
     ]
    },
    {
     "name": "stdout",
     "output_type": "stream",
     "text": [
      "Epoch 36 Loss: 4.7724438277009416\n"
     ]
    },
    {
     "name": "stderr",
     "output_type": "stream",
     "text": [
      "Epoch 37/50: 100%|██████████| 292/292 [00:17<00:00, 17.00it/s, loss=5.06]\n"
     ]
    },
    {
     "name": "stdout",
     "output_type": "stream",
     "text": [
      "Epoch 37 Loss: 4.740875525017307\n"
     ]
    },
    {
     "name": "stderr",
     "output_type": "stream",
     "text": [
      "Epoch 38/50: 100%|██████████| 292/292 [00:17<00:00, 16.82it/s, loss=5.39]\n"
     ]
    },
    {
     "name": "stdout",
     "output_type": "stream",
     "text": [
      "Epoch 38 Loss: 4.7148479125271106\n"
     ]
    },
    {
     "name": "stderr",
     "output_type": "stream",
     "text": [
      "Epoch 39/50: 100%|██████████| 292/292 [00:17<00:00, 16.94it/s, loss=4.81]\n"
     ]
    },
    {
     "name": "stdout",
     "output_type": "stream",
     "text": [
      "Epoch 39 Loss: 4.710846317957525\n"
     ]
    },
    {
     "name": "stderr",
     "output_type": "stream",
     "text": [
      "Epoch 40/50: 100%|██████████| 292/292 [00:17<00:00, 16.87it/s, loss=4.4] \n"
     ]
    },
    {
     "name": "stdout",
     "output_type": "stream",
     "text": [
      "Epoch 40 Loss: 4.679470863244305\n"
     ]
    },
    {
     "name": "stderr",
     "output_type": "stream",
     "text": [
      "Epoch 41/50: 100%|██████████| 292/292 [00:17<00:00, 16.86it/s, loss=6.16]\n"
     ]
    },
    {
     "name": "stdout",
     "output_type": "stream",
     "text": [
      "Epoch 41 Loss: 4.656031131744385\n"
     ]
    },
    {
     "name": "stderr",
     "output_type": "stream",
     "text": [
      "Epoch 42/50: 100%|██████████| 292/292 [00:17<00:00, 17.05it/s, loss=5.36]\n"
     ]
    },
    {
     "name": "stdout",
     "output_type": "stream",
     "text": [
      "Epoch 42 Loss: 4.657174922015569\n"
     ]
    },
    {
     "name": "stderr",
     "output_type": "stream",
     "text": [
      "Epoch 43/50: 100%|██████████| 292/292 [00:17<00:00, 16.80it/s, loss=5.12]\n"
     ]
    },
    {
     "name": "stdout",
     "output_type": "stream",
     "text": [
      "Epoch 43 Loss: 4.625222753988553\n"
     ]
    },
    {
     "name": "stderr",
     "output_type": "stream",
     "text": [
      "Epoch 44/50: 100%|██████████| 292/292 [00:17<00:00, 17.11it/s, loss=5.04]\n"
     ]
    },
    {
     "name": "stdout",
     "output_type": "stream",
     "text": [
      "Epoch 44 Loss: 4.611727398552307\n"
     ]
    },
    {
     "name": "stderr",
     "output_type": "stream",
     "text": [
      "Epoch 45/50: 100%|██████████| 292/292 [00:17<00:00, 16.90it/s, loss=5.71]\n"
     ]
    },
    {
     "name": "stdout",
     "output_type": "stream",
     "text": [
      "Epoch 45 Loss: 4.5865306233706535\n"
     ]
    },
    {
     "name": "stderr",
     "output_type": "stream",
     "text": [
      "Epoch 46/50: 100%|██████████| 292/292 [00:17<00:00, 17.04it/s, loss=5.52]\n"
     ]
    },
    {
     "name": "stdout",
     "output_type": "stream",
     "text": [
      "Epoch 46 Loss: 4.596240743382336\n"
     ]
    },
    {
     "name": "stderr",
     "output_type": "stream",
     "text": [
      "Epoch 47/50: 100%|██████████| 292/292 [00:17<00:00, 16.83it/s, loss=6.03]\n"
     ]
    },
    {
     "name": "stdout",
     "output_type": "stream",
     "text": [
      "Epoch 47 Loss: 4.537053478090731\n"
     ]
    },
    {
     "name": "stderr",
     "output_type": "stream",
     "text": [
      "Epoch 48/50: 100%|██████████| 292/292 [00:17<00:00, 17.03it/s, loss=5.37]\n"
     ]
    },
    {
     "name": "stdout",
     "output_type": "stream",
     "text": [
      "Epoch 48 Loss: 4.542691812123338\n"
     ]
    },
    {
     "name": "stderr",
     "output_type": "stream",
     "text": [
      "Epoch 49/50: 100%|██████████| 292/292 [00:17<00:00, 16.86it/s, loss=5.97]\n"
     ]
    },
    {
     "name": "stdout",
     "output_type": "stream",
     "text": [
      "Epoch 49 Loss: 4.509381546549601\n"
     ]
    },
    {
     "name": "stderr",
     "output_type": "stream",
     "text": [
      "Epoch 50/50: 100%|██████████| 292/292 [00:17<00:00, 16.88it/s, loss=5.14]"
     ]
    },
    {
     "name": "stdout",
     "output_type": "stream",
     "text": [
      "Epoch 50 Loss: 4.4869527139075815\n"
     ]
    },
    {
     "name": "stderr",
     "output_type": "stream",
     "text": [
      "\n"
     ]
    }
   ],
   "source": [
    "N_EPOCHS = 50\n",
    "BATCH_SIZE = 64\n",
    "N_EMBED = 100\n",
    "LR = 0.001\n",
    "LAMBDA_REG = 0.0001\n",
    "\n",
    "# Create the dataset and dataloader\n",
    "trainset = AutoRecDataset(train_matrix)\n",
    "trainloader = DataLoader(dataset=trainset, batch_size=BATCH_SIZE, shuffle=True)\n",
    "\n",
    "# Model, loss, and optimizer\n",
    "model = AutoRec(n_users, N_EMBED)  # 50 is the embedding size\n",
    "criterion = nn.MSELoss(reduction='sum')\n",
    "optimizer = optim.Adam(model.parameters(), lr=LR, weight_decay=LAMBDA_REG)\n",
    "\n",
    "# Train the model\n",
    "train(model, trainloader, criterion, optimizer, epochs=N_EPOCHS)"
   ]
  },
  {
   "cell_type": "code",
   "execution_count": 18,
   "metadata": {
    "execution": {
     "iopub.execute_input": "2024-12-17T10:00:03.995258Z",
     "iopub.status.busy": "2024-12-17T10:00:03.994775Z",
     "iopub.status.idle": "2024-12-17T10:00:04.001556Z",
     "shell.execute_reply": "2024-12-17T10:00:04.000800Z",
     "shell.execute_reply.started": "2024-12-17T10:00:03.995228Z"
    },
    "trusted": true
   },
   "outputs": [],
   "source": [
    "def eval(model, valloader):\n",
    "    device = 'cuda' if torch.cuda.is_available() else 'cpu'\n",
    "    model = model.to(device)\n",
    "    model.eval()  # Set the model to evaluation mode\n",
    "\n",
    "    total_rmse = 0\n",
    "    total_elements = 0\n",
    "\n",
    "    with torch.no_grad():  # Disable gradient computation during evaluation\n",
    "        pbar = tqdm(valloader, total=len(valloader), desc=\"Evaluating\")\n",
    "\n",
    "        for movie_vector in pbar:\n",
    "            movie_vector = movie_vector.to(device)  # Shape: (batch_size, n_users)\n",
    "\n",
    "            # Forward pass\n",
    "            r_hat = model(movie_vector)\n",
    "\n",
    "            # Mask for observed ratings only\n",
    "            mask = torch.sign(movie_vector)  # 1 for observed ratings, 0 otherwise\n",
    "            squared_error = ((r_hat - movie_vector) * mask) ** 2\n",
    "\n",
    "            # Accumulate RMSE\n",
    "            total_rmse += squared_error.sum().item()\n",
    "            total_elements += mask.sum().item()\n",
    "\n",
    "    # Calculate final RMSE\n",
    "    rmse = torch.sqrt(torch.tensor(total_rmse / total_elements)).item()\n",
    "    print(f\"Validation RMSE: {rmse:.4f}\")\n",
    "    return rmse"
   ]
  },
  {
   "cell_type": "code",
   "execution_count": 19,
   "metadata": {
    "execution": {
     "iopub.execute_input": "2024-12-17T10:00:09.358694Z",
     "iopub.status.busy": "2024-12-17T10:00:09.358322Z",
     "iopub.status.idle": "2024-12-17T10:00:26.243592Z",
     "shell.execute_reply": "2024-12-17T10:00:26.242697Z",
     "shell.execute_reply.started": "2024-12-17T10:00:09.358663Z"
    },
    "trusted": true
   },
   "outputs": [
    {
     "name": "stderr",
     "output_type": "stream",
     "text": [
      "Evaluating: 100%|██████████| 292/292 [00:16<00:00, 17.33it/s]"
     ]
    },
    {
     "name": "stdout",
     "output_type": "stream",
     "text": [
      "Validation RMSE: 2.8014\n"
     ]
    },
    {
     "name": "stderr",
     "output_type": "stream",
     "text": [
      "\n"
     ]
    },
    {
     "data": {
      "text/plain": [
       "2.801445722579956"
      ]
     },
     "execution_count": 19,
     "metadata": {},
     "output_type": "execute_result"
    }
   ],
   "source": [
    "testloader = DataLoader(dataset=AutoRecDataset(test_matrix), batch_size=BATCH_SIZE, shuffle=False)\n",
    "eval(model, testloader)"
   ]
  },
  {
   "cell_type": "code",
   "execution_count": 20,
   "metadata": {
    "execution": {
     "iopub.execute_input": "2024-12-17T10:00:32.458990Z",
     "iopub.status.busy": "2024-12-17T10:00:32.458186Z",
     "iopub.status.idle": "2024-12-17T10:00:44.636617Z",
     "shell.execute_reply": "2024-12-17T10:00:44.635661Z",
     "shell.execute_reply.started": "2024-12-17T10:00:32.458957Z"
    },
    "trusted": true
   },
   "outputs": [
    {
     "name": "stderr",
     "output_type": "stream",
     "text": [
      "Evaluating: 100%|██████████| 292/292 [00:12<00:00, 24.00it/s]"
     ]
    },
    {
     "name": "stdout",
     "output_type": "stream",
     "text": [
      "Validation RMSE: 1.8244\n"
     ]
    },
    {
     "name": "stderr",
     "output_type": "stream",
     "text": [
      "\n"
     ]
    },
    {
     "data": {
      "text/plain": [
       "1.8244248628616333"
      ]
     },
     "execution_count": 20,
     "metadata": {},
     "output_type": "execute_result"
    }
   ],
   "source": [
    "eval(model, trainloader)"
   ]
  },
  {
   "cell_type": "code",
   "execution_count": 21,
   "metadata": {
    "execution": {
     "iopub.execute_input": "2024-12-17T10:01:11.850369Z",
     "iopub.status.busy": "2024-12-17T10:01:11.850017Z",
     "iopub.status.idle": "2024-12-17T10:01:12.145836Z",
     "shell.execute_reply": "2024-12-17T10:01:12.144878Z",
     "shell.execute_reply.started": "2024-12-17T10:01:11.850323Z"
    },
    "trusted": true
   },
   "outputs": [],
   "source": [
    "# Save model\n",
    "model.save_model('autorec_embed100.pth')"
   ]
  },
  {
   "cell_type": "code",
   "execution_count": 22,
   "metadata": {
    "execution": {
     "iopub.execute_input": "2024-12-17T10:01:25.545489Z",
     "iopub.status.busy": "2024-12-17T10:01:25.544894Z",
     "iopub.status.idle": "2024-12-17T10:01:25.554637Z",
     "shell.execute_reply": "2024-12-17T10:01:25.553726Z",
     "shell.execute_reply.started": "2024-12-17T10:01:25.545452Z"
    },
    "trusted": true
   },
   "outputs": [],
   "source": [
    "def evaluate_recommendation(model, train_data, test_data, n_movies, n_top=5):\n",
    "    hit_ratios, ndcg_scores = [], []\n",
    "\n",
    "    device = 'cuda' if torch.cuda.is_available() else 'cpu'\n",
    "    train_matrix = create_interaction_matrix(train_data, model.n_users, n_movies)\n",
    "    model = model.to(device)\n",
    "    model.eval()\n",
    "    \n",
    "    unique_users = np.unique(test_data[:, 0])\n",
    "    for u in tqdm(unique_users, desc=\"Evaluating Users\"):\n",
    "        # Get movies with ratings 8-10 in test data\n",
    "        user_test_ratings = test_data[test_data[:, 0] == u]\n",
    "        high_rated_test_movies = user_test_ratings[user_test_ratings[:, 2] >= 8, 1]\n",
    "        \n",
    "        if len(high_rated_test_movies) != 0:\n",
    "            # Get all unrated movies\n",
    "            train_movies = train_data[train_data[:, 0] == u, 1]\n",
    "            all_movies = np.arange(n_movies)\n",
    "            unrated_movies = all_movies[~np.isin(all_movies, np.concatenate([train_movies, user_test_ratings[:, 1]]))]\n",
    "            \n",
    "            # Combine the high-rated movie with 99 other unrated movies\n",
    "            sampled_unrated_movies = np.random.choice(unrated_movies, 99, replace=False)\n",
    "            \n",
    "            hit_ratio = 0\n",
    "            dcg = 0\n",
    "            # For each high-rated test movie\n",
    "            for high_rated_movie in high_rated_test_movies:\n",
    "                \n",
    "                candidate_movies = np.concatenate([[high_rated_movie], sampled_unrated_movies])\n",
    "                inputs = torch.cat([torch.tensor(train_matrix[m], dtype=torch.float32).unsqueeze(0) for m in candidate_movies], dim=0).to(device)\n",
    "                r_preds = model(inputs)\n",
    "                movie_scores = {m: r_preds[i, u].item() for i, m in enumerate(candidate_movies)}\n",
    "                \n",
    "                # Sort movies by predicted score\n",
    "                sorted_movies = sorted(movie_scores, key=movie_scores.get, reverse=True)[:n_top]\n",
    "                \n",
    "                # Calculate the benchmark\n",
    "                if high_rated_movie in sorted_movies:\n",
    "                    hit_ratio += 1 \n",
    "                    rank = sorted_movies.index(high_rated_movie) + 1\n",
    "                    dcg += 1 / math.log2(rank + 1)  # Discount for rank\n",
    "            hit_ratios.append(hit_ratio / len(high_rated_test_movies))\n",
    "            ndcg_scores.append(dcg / len(high_rated_test_movies))\n",
    "            \n",
    "    return np.mean(hit_ratios), np.mean(ndcg_scores)"
   ]
  },
  {
   "cell_type": "code",
   "execution_count": 23,
   "metadata": {
    "execution": {
     "iopub.execute_input": "2024-12-17T10:01:27.699694Z",
     "iopub.status.busy": "2024-12-17T10:01:27.698885Z",
     "iopub.status.idle": "2024-12-17T10:12:43.009542Z",
     "shell.execute_reply": "2024-12-17T10:12:43.008671Z",
     "shell.execute_reply.started": "2024-12-17T10:01:27.699656Z"
    },
    "trusted": true
   },
   "outputs": [
    {
     "name": "stderr",
     "output_type": "stream",
     "text": [
      "Evaluating Users: 100%|██████████| 6084/6084 [11:14<00:00,  9.02it/s]  \n"
     ]
    },
    {
     "name": "stdout",
     "output_type": "stream",
     "text": [
      "Hit Ratio: 0.0686, NDCG: 0.0421\n"
     ]
    }
   ],
   "source": [
    "# Evaluate the model on validation data\n",
    "hit_ratio, ndcg = evaluate_recommendation(model, train_data, test_data, n_movies, n_top=5)\n",
    "print(f\"Hit Ratio: {hit_ratio:.4f}, NDCG: {ndcg:.4f}\")"
   ]
  }
 ],
 "metadata": {
  "kaggle": {
   "accelerator": "nvidiaTeslaT4",
   "dataSources": [
    {
     "datasetId": 6299462,
     "sourceId": 10211397,
     "sourceType": "datasetVersion"
    }
   ],
   "dockerImageVersionId": 30805,
   "isGpuEnabled": true,
   "isInternetEnabled": true,
   "language": "python",
   "sourceType": "notebook"
  },
  "kernelspec": {
   "display_name": "Python 3",
   "language": "python",
   "name": "python3"
  },
  "language_info": {
   "codemirror_mode": {
    "name": "ipython",
    "version": 3
   },
   "file_extension": ".py",
   "mimetype": "text/x-python",
   "name": "python",
   "nbconvert_exporter": "python",
   "pygments_lexer": "ipython3",
   "version": "3.10.14"
  }
 },
 "nbformat": 4,
 "nbformat_minor": 4
}
