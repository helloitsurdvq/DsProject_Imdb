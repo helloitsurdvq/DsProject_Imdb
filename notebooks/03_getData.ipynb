{
 "cells": [
  {
   "cell_type": "code",
   "execution_count": null,
   "metadata": {},
   "outputs": [],
   "source": [
    "!pip3 install google-generativeai"
   ]
  },
  {
   "cell_type": "code",
   "execution_count": null,
   "metadata": {},
   "outputs": [],
   "source": [
    "import numpy as np\n",
    "import pandas as pd\n",
    "import math\n",
    "import google.generativeai as genai\n",
    "import os\n",
    "\n",
    "# Add your API key into ''\n",
    "os.environ[\"GOOGLE_API_KEY\"] = '' "
   ]
  },
  {
   "cell_type": "code",
   "execution_count": null,
   "metadata": {},
   "outputs": [],
   "source": [
    "rating_df = pd.read_csv('../data/cleaned/cleaned_user_rating.csv')\n",
    "rating_df_copy = rating_df.copy()\n",
    "movies_df = pd.read_csv('../data/cleaned/cleaned_movies_details.csv', usecols=['movie_id', 'title', 'genres', 'overview', 'director', 'stars', 'img_url'])\n",
    "\n",
    "# Only keep users with >= 5 ratings\n",
    "user_rating_counts = rating_df_copy['user_id'].value_counts()\n",
    "users_with_5_or_more_ratings = user_rating_counts[user_rating_counts >= 5].index\n",
    "rating_df_copy = rating_df_copy[rating_df_copy['user_id'].isin(users_with_5_or_more_ratings)]\n",
    "rating_df_copy = rating_df_copy.reset_index(drop=True)\n",
    "\n",
    "# ID to number\n",
    "rating_df_copy['user_id_number'] = rating_df_copy['user_id'].astype('category').cat.codes.values\n",
    "rating_df_copy['movie_id_number'] = rating_df_copy['movie_id'].astype('category').cat.codes.values\n",
    "\n",
    "all_data = rating_df_copy[['user_id_number', 'movie_id_number', 'rating']].values"
   ]
  },
  {
   "cell_type": "code",
   "execution_count": null,
   "metadata": {},
   "outputs": [],
   "source": [
    "def split_ratings_by_user(train_data, random_state=420):\n",
    "    \"\"\"\n",
    "    Split ratings for each user into train, validation, and test sets\n",
    "    with 60:20:20 split and maintaining rating count distribution\n",
    "    \"\"\"\n",
    "    np.random.seed(random_state)\n",
    "    \n",
    "    # Unique users\n",
    "    users = np.unique(train_data[:, 0])\n",
    "    \n",
    "    # Initialize empty lists for split data\n",
    "    train_data_list = []\n",
    "    val_data_list = []\n",
    "    test_data_list = []\n",
    "    \n",
    "    for user in users:\n",
    "        user_ratings = train_data[train_data[:, 0] == user]\n",
    "        user_ratings = user_ratings[user_ratings[:, 2].argsort()]\n",
    "        total_ratings = len(user_ratings)\n",
    "        train_end = math.ceil(total_ratings * 0.6)\n",
    "        val_end = train_end + math.ceil(total_ratings * 0.2)\n",
    "        \n",
    "        # Split the data\n",
    "        train_data_list.append(user_ratings[:train_end])\n",
    "        val_data_list.append(user_ratings[train_end:val_end])\n",
    "        test_data_list.append(user_ratings[val_end:])\n",
    "    \n",
    "    # Concatenate the lists\n",
    "    train_data = np.vstack(train_data_list)\n",
    "    val_data = np.vstack(val_data_list)\n",
    "    test_data = np.vstack(test_data_list)\n",
    "    \n",
    "    return train_data, val_data, test_data"
   ]
  },
  {
   "cell_type": "code",
   "execution_count": null,
   "metadata": {},
   "outputs": [],
   "source": [
    "train_data, val_data, test_data = split_ratings_by_user(all_data)\n",
    "np.savez_compressed('../cleaned_data/data.npz', train=train_data, val=val_data, test=test_data)"
   ]
  },
  {
   "cell_type": "code",
   "execution_count": null,
   "metadata": {},
   "outputs": [],
   "source": [
    "movies_df['genres'] = movies_df['genres'].fillna('Unknown')\n",
    "movies_df['director'] = movies_df['director'].fillna('Unknown')\n",
    "movies_df['stars'] = movies_df['stars'].fillna('Unknown')\n",
    "movies_df['duration'] = movies_df['duration'].fillna(0)  # Default duration as 0\n",
    "movies_df['rating'] = movies_df['rating'].fillna(0.0)    # Default rating as 0.0\n",
    "movies_df['oscar'] = movies_df['oscar'].fillna(0)        # Default oscar count as 0\n",
    "movies_df['country'] = movies_df['country'].fillna('Unknown')\n",
    "movies_df['overview'] = movies_df['overview'].fillna('No overview available')\n",
    "\n",
    "movies_df['info'] = 'Genres: ' + movies_df['genres'] + '\\n' \\\n",
    "                    + 'Director: ' + movies_df['director'] + '\\n' \\\n",
    "                    + 'Cast: ' + movies_df['stars'] + '\\n' \\\n",
    "                    + 'Duration: ' + movies_df['duration'].astype(str) + ' minutes \\n' \\\n",
    "                    + 'Average rating: ' + movies_df['rating'].astype(str) + '\\n' \\\n",
    "                    + 'Number of oscars: ' + movies_df['oscar'].astype(str) + '\\n' \\\n",
    "                    + 'Country: ' + movies_df['country'] + '\\n' \\\n",
    "                    + 'Overview: ' + movies_df['overview']"
   ]
  },
  {
   "cell_type": "code",
   "execution_count": null,
   "metadata": {},
   "outputs": [],
   "source": [
    "info_list = movies_df['info'].tolist()\n",
    "overview_embedding_list = genai.embed_content(\n",
    "    model=\"models/text-embedding-004\", content=info_list\n",
    ")['embedding']\n",
    "\n",
    "np.savez('embeddings.npz', embeds=np.array(overview_embedding_list))"
   ]
  }
 ],
 "metadata": {
  "kernelspec": {
   "display_name": "GECCO2025",
   "language": "python",
   "name": "python3"
  },
  "language_info": {
   "name": "python",
   "version": "3.12.4"
  }
 },
 "nbformat": 4,
 "nbformat_minor": 2
}
