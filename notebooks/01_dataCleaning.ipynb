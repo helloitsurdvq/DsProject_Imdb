{
 "cells": [
  {
   "cell_type": "markdown",
   "metadata": {},
   "source": [
    "## 1. Data Cleaning"
   ]
  },
  {
   "cell_type": "code",
   "execution_count": 3,
   "metadata": {},
   "outputs": [],
   "source": [
    "import numpy as np \n",
    "import pandas as pd\n",
    "import os\n",
    "from tabulate import tabulate\n",
    "import time\n",
    "import pickle\n",
    "import textwrap\n",
    "\n",
    "import matplotlib.pyplot as plt\n",
    "import matplotlib.style as style\n",
    "import seaborn as sns\n",
    "style.use('seaborn-v0_8-darkgrid')\n",
    "plt.rcParams['font.family'] = 'monospace'\n",
    "\n",
    "%matplotlib inline\n",
    "import warnings\n",
    "warnings.filterwarnings(\"ignore\", category=FutureWarning)\n",
    "warnings.filterwarnings(\"ignore\")\n",
    "\n",
    "import joblib\n",
    "from sklearn.model_selection import train_test_split\n",
    "from sklearn.preprocessing import LabelEncoder, OneHotEncoder, StandardScaler, MinMaxScaler, OrdinalEncoder, PolynomialFeatures\n",
    "from sklearn.compose import make_column_transformer\n",
    "from sklearn.inspection import permutation_importance\n",
    "from sklearn.metrics import accuracy_score, precision_score, recall_score, f1_score, classification_report, make_scorer, confusion_matrix, ConfusionMatrixDisplay\n",
    "from sklearn.pipeline import make_pipeline\n",
    "from sklearn.cluster import DBSCAN\n",
    "from sklearn.decomposition import PCA\n",
    "from scipy.spatial.distance import pdist, squareform, euclidean\n",
    "\n",
    "RANDOM_STATE = 42"
   ]
  },
  {
   "cell_type": "code",
   "execution_count": 4,
   "metadata": {},
   "outputs": [
    {
     "data": {
      "text/html": [
       "<div>\n",
       "<style scoped>\n",
       "    .dataframe tbody tr th:only-of-type {\n",
       "        vertical-align: middle;\n",
       "    }\n",
       "\n",
       "    .dataframe tbody tr th {\n",
       "        vertical-align: top;\n",
       "    }\n",
       "\n",
       "    .dataframe thead th {\n",
       "        text-align: right;\n",
       "    }\n",
       "</style>\n",
       "<table border=\"1\" class=\"dataframe\">\n",
       "  <thead>\n",
       "    <tr style=\"text-align: right;\">\n",
       "      <th></th>\n",
       "      <th>title</th>\n",
       "      <th>img_url</th>\n",
       "      <th>year</th>\n",
       "      <th>director</th>\n",
       "      <th>stars</th>\n",
       "      <th>duration</th>\n",
       "      <th>genres</th>\n",
       "      <th>overview</th>\n",
       "      <th>rating</th>\n",
       "      <th>num_rating</th>\n",
       "      <th>num_user_review</th>\n",
       "      <th>num_critic_review</th>\n",
       "      <th>budget</th>\n",
       "      <th>gross</th>\n",
       "      <th>country</th>\n",
       "      <th>metascore</th>\n",
       "      <th>oscar</th>\n",
       "      <th>win_and_nomination</th>\n",
       "      <th>url</th>\n",
       "    </tr>\n",
       "  </thead>\n",
       "  <tbody>\n",
       "    <tr>\n",
       "      <th>0</th>\n",
       "      <td>Woman of the Hour</td>\n",
       "      <td>https://m.media-amazon.com/images/M/MV5BYzliNz...</td>\n",
       "      <td>2023</td>\n",
       "      <td>Anna Kendrick</td>\n",
       "      <td>Anna Kendrick,Daniel Zovatto,Tony Hale</td>\n",
       "      <td>1h 35m</td>\n",
       "      <td>Crime,Drama,Mystery</td>\n",
       "      <td>Sheryl Bradshaw, a single woman looking for a ...</td>\n",
       "      <td>6.7</td>\n",
       "      <td>24K</td>\n",
       "      <td>193</td>\n",
       "      <td>102</td>\n",
       "      <td>NaN</td>\n",
       "      <td>$817,151</td>\n",
       "      <td>United States</td>\n",
       "      <td>74.0</td>\n",
       "      <td>NaN</td>\n",
       "      <td>1 win</td>\n",
       "      <td>https://www.imdb.com/title/tt7737800/?ref_=sr_t_1</td>\n",
       "    </tr>\n",
       "    <tr>\n",
       "      <th>1</th>\n",
       "      <td>The Substance</td>\n",
       "      <td>https://m.media-amazon.com/images/M/MV5BZDQ1NG...</td>\n",
       "      <td>2024</td>\n",
       "      <td>Coralie Fargeat</td>\n",
       "      <td>Demi Moore,Margaret Qualley,Dennis Quaid</td>\n",
       "      <td>2h 21m</td>\n",
       "      <td>Drama,Horror</td>\n",
       "      <td>A fading celebrity takes a black-market drug: ...</td>\n",
       "      <td>7.6</td>\n",
       "      <td>86K</td>\n",
       "      <td>883</td>\n",
       "      <td>279</td>\n",
       "      <td>$17,500,000 (estimated)</td>\n",
       "      <td>$41,691,175</td>\n",
       "      <td>United Kingdom</td>\n",
       "      <td>78.0</td>\n",
       "      <td>NaN</td>\n",
       "      <td>3 wins &amp; 6 nominations</td>\n",
       "      <td>https://www.imdb.com/title/tt17526714/?ref_=sr...</td>\n",
       "    </tr>\n",
       "    <tr>\n",
       "      <th>2</th>\n",
       "      <td>Venom: The Last Dance</td>\n",
       "      <td>https://m.media-amazon.com/images/M/MV5BZDMyYW...</td>\n",
       "      <td>2024</td>\n",
       "      <td>Kelly Marcel</td>\n",
       "      <td>Tom Hardy,Chiwetel Ejiofor,Juno Temple</td>\n",
       "      <td>1h 49m</td>\n",
       "      <td>Action,Adventure,Sci-Fi,Thriller</td>\n",
       "      <td>Eddie and Venom, on the run, face pursuit from...</td>\n",
       "      <td>6.2</td>\n",
       "      <td>21K</td>\n",
       "      <td>215</td>\n",
       "      <td>112</td>\n",
       "      <td>$120,000,000 (estimated)</td>\n",
       "      <td>$182,673,243</td>\n",
       "      <td>United States</td>\n",
       "      <td>41.0</td>\n",
       "      <td>NaN</td>\n",
       "      <td>NaN</td>\n",
       "      <td>https://www.imdb.com/title/tt16366836/?ref_=sr...</td>\n",
       "    </tr>\n",
       "    <tr>\n",
       "      <th>3</th>\n",
       "      <td>Terrifier 3</td>\n",
       "      <td>https://m.media-amazon.com/images/M/MV5BNzc2MW...</td>\n",
       "      <td>2024</td>\n",
       "      <td>Damien Leone</td>\n",
       "      <td>Lauren LaVera,David Howard Thornton,Antonella ...</td>\n",
       "      <td>2h 5m</td>\n",
       "      <td>Horror</td>\n",
       "      <td>Art the Clown is set to unleash chaos on the u...</td>\n",
       "      <td>6.7</td>\n",
       "      <td>19K</td>\n",
       "      <td>306</td>\n",
       "      <td>106</td>\n",
       "      <td>$2,000,000 (estimated)</td>\n",
       "      <td>$57,652,158</td>\n",
       "      <td>United States</td>\n",
       "      <td>61.0</td>\n",
       "      <td>NaN</td>\n",
       "      <td>NaN</td>\n",
       "      <td>https://www.imdb.com/title/tt27911000/?ref_=sr...</td>\n",
       "    </tr>\n",
       "    <tr>\n",
       "      <th>4</th>\n",
       "      <td>Smile 2</td>\n",
       "      <td>https://m.media-amazon.com/images/M/MV5BYTg5OT...</td>\n",
       "      <td>2024</td>\n",
       "      <td>Parker Finn</td>\n",
       "      <td>Naomi Scott,Rosemarie DeWitt,Lukas Gage</td>\n",
       "      <td>2h 7m</td>\n",
       "      <td>Horror,Mystery,Thriller</td>\n",
       "      <td>About to embark on a world tour, global pop se...</td>\n",
       "      <td>7.2</td>\n",
       "      <td>23K</td>\n",
       "      <td>342</td>\n",
       "      <td>159</td>\n",
       "      <td>$28,000,000 (estimated)</td>\n",
       "      <td>$86,109,996</td>\n",
       "      <td>United States</td>\n",
       "      <td>66.0</td>\n",
       "      <td>NaN</td>\n",
       "      <td>NaN</td>\n",
       "      <td>https://www.imdb.com/title/tt29268110/?ref_=sr...</td>\n",
       "    </tr>\n",
       "  </tbody>\n",
       "</table>\n",
       "</div>"
      ],
      "text/plain": [
       "                   title                                            img_url  \\\n",
       "0      Woman of the Hour  https://m.media-amazon.com/images/M/MV5BYzliNz...   \n",
       "1          The Substance  https://m.media-amazon.com/images/M/MV5BZDQ1NG...   \n",
       "2  Venom: The Last Dance  https://m.media-amazon.com/images/M/MV5BZDMyYW...   \n",
       "3            Terrifier 3  https://m.media-amazon.com/images/M/MV5BNzc2MW...   \n",
       "4                Smile 2  https://m.media-amazon.com/images/M/MV5BYTg5OT...   \n",
       "\n",
       "   year         director                                              stars  \\\n",
       "0  2023    Anna Kendrick             Anna Kendrick,Daniel Zovatto,Tony Hale   \n",
       "1  2024  Coralie Fargeat           Demi Moore,Margaret Qualley,Dennis Quaid   \n",
       "2  2024     Kelly Marcel             Tom Hardy,Chiwetel Ejiofor,Juno Temple   \n",
       "3  2024     Damien Leone  Lauren LaVera,David Howard Thornton,Antonella ...   \n",
       "4  2024      Parker Finn            Naomi Scott,Rosemarie DeWitt,Lukas Gage   \n",
       "\n",
       "  duration                            genres  \\\n",
       "0   1h 35m               Crime,Drama,Mystery   \n",
       "1   2h 21m                      Drama,Horror   \n",
       "2   1h 49m  Action,Adventure,Sci-Fi,Thriller   \n",
       "3    2h 5m                            Horror   \n",
       "4    2h 7m           Horror,Mystery,Thriller   \n",
       "\n",
       "                                            overview  rating num_rating  \\\n",
       "0  Sheryl Bradshaw, a single woman looking for a ...     6.7        24K   \n",
       "1  A fading celebrity takes a black-market drug: ...     7.6        86K   \n",
       "2  Eddie and Venom, on the run, face pursuit from...     6.2        21K   \n",
       "3  Art the Clown is set to unleash chaos on the u...     6.7        19K   \n",
       "4  About to embark on a world tour, global pop se...     7.2        23K   \n",
       "\n",
       "  num_user_review num_critic_review                    budget         gross  \\\n",
       "0             193               102                       NaN      $817,151   \n",
       "1             883               279   $17,500,000 (estimated)   $41,691,175   \n",
       "2             215               112  $120,000,000 (estimated)  $182,673,243   \n",
       "3             306               106    $2,000,000 (estimated)   $57,652,158   \n",
       "4             342               159   $28,000,000 (estimated)   $86,109,996   \n",
       "\n",
       "          country  metascore oscar      win_and_nomination  \\\n",
       "0   United States       74.0   NaN                   1 win   \n",
       "1  United Kingdom       78.0   NaN  3 wins & 6 nominations   \n",
       "2   United States       41.0   NaN                     NaN   \n",
       "3   United States       61.0   NaN                     NaN   \n",
       "4   United States       66.0   NaN                     NaN   \n",
       "\n",
       "                                                 url  \n",
       "0  https://www.imdb.com/title/tt7737800/?ref_=sr_t_1  \n",
       "1  https://www.imdb.com/title/tt17526714/?ref_=sr...  \n",
       "2  https://www.imdb.com/title/tt16366836/?ref_=sr...  \n",
       "3  https://www.imdb.com/title/tt27911000/?ref_=sr...  \n",
       "4  https://www.imdb.com/title/tt29268110/?ref_=sr...  "
      ]
     },
     "execution_count": 4,
     "metadata": {},
     "output_type": "execute_result"
    }
   ],
   "source": [
    "df_movie = pd.read_csv('../data/raw/movies_details.csv')\n",
    "df_movie.head(5)"
   ]
  },
  {
   "cell_type": "code",
   "execution_count": 5,
   "metadata": {},
   "outputs": [
    {
     "data": {
      "text/html": [
       "<div>\n",
       "<style scoped>\n",
       "    .dataframe tbody tr th:only-of-type {\n",
       "        vertical-align: middle;\n",
       "    }\n",
       "\n",
       "    .dataframe tbody tr th {\n",
       "        vertical-align: top;\n",
       "    }\n",
       "\n",
       "    .dataframe thead th {\n",
       "        text-align: right;\n",
       "    }\n",
       "</style>\n",
       "<table border=\"1\" class=\"dataframe\">\n",
       "  <thead>\n",
       "    <tr style=\"text-align: right;\">\n",
       "      <th></th>\n",
       "      <th>user_id</th>\n",
       "      <th>movie_id</th>\n",
       "      <th>rating</th>\n",
       "    </tr>\n",
       "  </thead>\n",
       "  <tbody>\n",
       "    <tr>\n",
       "      <th>0</th>\n",
       "      <td>ur127508339</td>\n",
       "      <td>tt7737800</td>\n",
       "      <td>8</td>\n",
       "    </tr>\n",
       "    <tr>\n",
       "      <th>1</th>\n",
       "      <td>ur6312156</td>\n",
       "      <td>tt7737800</td>\n",
       "      <td>8</td>\n",
       "    </tr>\n",
       "    <tr>\n",
       "      <th>2</th>\n",
       "      <td>ur150453978</td>\n",
       "      <td>tt7737800</td>\n",
       "      <td>1</td>\n",
       "    </tr>\n",
       "    <tr>\n",
       "      <th>3</th>\n",
       "      <td>ur18519281</td>\n",
       "      <td>tt7737800</td>\n",
       "      <td>3</td>\n",
       "    </tr>\n",
       "    <tr>\n",
       "      <th>4</th>\n",
       "      <td>ur0806494</td>\n",
       "      <td>tt7737800</td>\n",
       "      <td>7</td>\n",
       "    </tr>\n",
       "  </tbody>\n",
       "</table>\n",
       "</div>"
      ],
      "text/plain": [
       "       user_id   movie_id  rating\n",
       "0  ur127508339  tt7737800       8\n",
       "1    ur6312156  tt7737800       8\n",
       "2  ur150453978  tt7737800       1\n",
       "3   ur18519281  tt7737800       3\n",
       "4    ur0806494  tt7737800       7"
      ]
     },
     "execution_count": 5,
     "metadata": {},
     "output_type": "execute_result"
    }
   ],
   "source": [
    "df_rating = pd.read_csv('../data/raw/movie_user_rating.csv')\n",
    "df_rating.head(5)"
   ]
  },
  {
   "cell_type": "code",
   "execution_count": 6,
   "metadata": {},
   "outputs": [
    {
     "name": "stdout",
     "output_type": "stream",
     "text": [
      "<class 'pandas.core.frame.DataFrame'>\n",
      "RangeIndex: 19250 entries, 0 to 19249\n",
      "Data columns (total 19 columns):\n",
      " #   Column              Non-Null Count  Dtype  \n",
      "---  ------              --------------  -----  \n",
      " 0   title               19250 non-null  object \n",
      " 1   img_url             19250 non-null  object \n",
      " 2   year                19250 non-null  int64  \n",
      " 3   director            19242 non-null  object \n",
      " 4   stars               19173 non-null  object \n",
      " 5   duration            19141 non-null  object \n",
      " 6   genres              19232 non-null  object \n",
      " 7   overview            19220 non-null  object \n",
      " 8   rating              19250 non-null  float64\n",
      " 9   num_rating          19250 non-null  object \n",
      " 10  num_user_review     19250 non-null  object \n",
      " 11  num_critic_review   19250 non-null  object \n",
      " 12  budget              9890 non-null   object \n",
      " 13  gross               13066 non-null  object \n",
      " 14  country             19221 non-null  object \n",
      " 15  metascore           11284 non-null  float64\n",
      " 16  oscar               2762 non-null   object \n",
      " 17  win_and_nomination  13647 non-null  object \n",
      " 18  url                 19250 non-null  object \n",
      "dtypes: float64(2), int64(1), object(16)\n",
      "memory usage: 2.8+ MB\n"
     ]
    }
   ],
   "source": [
    "df_movie.info()"
   ]
  },
  {
   "cell_type": "code",
   "execution_count": 7,
   "metadata": {},
   "outputs": [],
   "source": [
    "df_movie['year'] = df_movie['year'].astype(str)\n",
    "\n",
    "# Sort the DataFrame by 'year' in ascending order\n",
    "df_movie = df_movie.sort_values(by='year')"
   ]
  },
  {
   "cell_type": "code",
   "execution_count": 8,
   "metadata": {},
   "outputs": [
    {
     "name": "stdout",
     "output_type": "stream",
     "text": [
      "Null counts in each column:\n",
      "title                     0\n",
      "img_url                   0\n",
      "year                      0\n",
      "director                  8\n",
      "stars                    77\n",
      "duration                109\n",
      "genres                   18\n",
      "overview                 30\n",
      "rating                    0\n",
      "num_rating                0\n",
      "num_user_review           0\n",
      "num_critic_review         0\n",
      "budget                 9360\n",
      "gross                  6184\n",
      "country                  29\n",
      "metascore              7966\n",
      "oscar                 16488\n",
      "win_and_nomination     5603\n",
      "url                       0\n",
      "dtype: int64\n"
     ]
    }
   ],
   "source": [
    "null_counts = df_movie.isnull().sum()\n",
    "\n",
    "print(\"Null counts in each column:\")\n",
    "print(null_counts)"
   ]
  },
  {
   "cell_type": "code",
   "execution_count": 9,
   "metadata": {},
   "outputs": [
    {
     "name": "stdout",
     "output_type": "stream",
     "text": [
      "Number of movies before deletion: 19250\n",
      "Number of movies after deletion: 19108\n"
     ]
    }
   ],
   "source": [
    "num_movies_before_deletion = len(df_movie)\n",
    "print(f\"Number of movies before deletion: {num_movies_before_deletion}\")\n",
    "\n",
    "important_columns = ['title', 'genres', 'rating', 'year', 'overview', 'duration']\n",
    "df_movie = df_movie.dropna(subset=important_columns)\n",
    "\n",
    "num_movies_after_deletion = len(df_movie)\n",
    "print(f\"Number of movies after deletion: {num_movies_after_deletion}\")"
   ]
  },
  {
   "cell_type": "code",
   "execution_count": 10,
   "metadata": {},
   "outputs": [
    {
     "data": {
      "text/plain": [
       "19"
      ]
     },
     "execution_count": 10,
     "metadata": {},
     "output_type": "execute_result"
    }
   ],
   "source": [
    "len(df_movie.columns)"
   ]
  },
  {
   "cell_type": "code",
   "execution_count": 11,
   "metadata": {},
   "outputs": [],
   "source": [
    "# Converting num_rating value, 'K' and 'M' to integers\n",
    "def convert_to_int(value):\n",
    "    if 'K' in value:\n",
    "        return int(float(value.replace('K', '')) * 1000)\n",
    "    elif 'M' in value:\n",
    "        return int(float(value.replace('M', '')) * 1000000)\n",
    "    else:\n",
    "        return int(value)\n",
    "\n",
    "df_movie['num_rating'] = df_movie['num_rating'].apply(convert_to_int)"
   ]
  },
  {
   "cell_type": "code",
   "execution_count": 12,
   "metadata": {},
   "outputs": [],
   "source": [
    "unique_years = df_movie['year'].unique()\n",
    "df_movie = df_movie[df_movie['year'].str.isnumeric()]\n",
    "df_movie['year'] = df_movie['year'].astype(int)"
   ]
  },
  {
   "cell_type": "code",
   "execution_count": 13,
   "metadata": {},
   "outputs": [],
   "source": [
    "# converting 'duration' to minutes\n",
    "def convert_duration_to_minutes(duration_str):\n",
    "    parts = duration_str.split()\n",
    "    total_minutes = 0\n",
    "    for part in parts:\n",
    "        if 'h' in part:\n",
    "            total_minutes += int(part.strip('h')) * 60\n",
    "        elif 'm' in part:\n",
    "            total_minutes += int(part.strip('m'))\n",
    "    return total_minutes\n",
    "\n",
    "# Apply the function to convert 'duration' values to minutes\n",
    "df_movie['duration'] = df_movie['duration'].apply(convert_duration_to_minutes)"
   ]
  },
  {
   "cell_type": "code",
   "execution_count": 14,
   "metadata": {},
   "outputs": [],
   "source": [
    "# Define a function to extract the number of Oscars won\n",
    "def extract_oscar_count(oscar_str):\n",
    "    if isinstance(oscar_str, str) and 'oscar' in oscar_str.lower() and 'won' in oscar_str.lower():\n",
    "        words = oscar_str.split()\n",
    "        for i in range(len(words)):\n",
    "            if words[i].isdigit() and words[i + 1].lower() == 'oscar' and words[i - 1].lower() == 'won':\n",
    "                return int(words[i])\n",
    "    # If not 'won' and 'oscar' or no number found, return 0\n",
    "    return 0\n",
    "\n",
    "df_movie['oscar'] = df_movie['oscar'].apply(extract_oscar_count)"
   ]
  },
  {
   "cell_type": "code",
   "execution_count": 15,
   "metadata": {},
   "outputs": [],
   "source": [
    "#budget processing\n",
    "df_movie[\"budget\"] = df_movie[\"budget\"].astype(str)\n",
    "df_movie[\"budget\"] = df_movie[\"budget\"].map(lambda x: x.rstrip(\" (estimated)\"))\n",
    "df_movie[\"budget\"] = df_movie[\"budget\"].map(lambda x: x.replace(\",\", \"\"))"
   ]
  },
  {
   "cell_type": "code",
   "execution_count": 16,
   "metadata": {},
   "outputs": [],
   "source": [
    "# split digit part and character part\n",
    "df_movie[\"estimated_budget\"] = df_movie[\"budget\"].str.extract(\"(\\d+)\")\n",
    "df_movie[\"budget_unit\"] = df_movie[\"budget\"].str.extract(\"(\\D+)\")"
   ]
  },
  {
   "cell_type": "code",
   "execution_count": 17,
   "metadata": {},
   "outputs": [
    {
     "data": {
      "text/plain": [
       "array(['nan', '$', 'SEK', '¥', 'FRF', 'DEM', '£', 'ITL', 'PLN', 'RUR',\n",
       "       'A$', 'NLG', 'CA$', 'TRL', '€', 'NZ$', 'NOK', 'IEP', 'DKK', 'HK$',\n",
       "       'BEF', 'ESP', '₹', 'ATS', 'R$', 'SGD', 'FIM', 'HUF', 'CN¥', 'THB',\n",
       "       '₩', 'CZK', 'CHF', '₪', 'ARS', 'MX$', 'MVR', 'IDR', 'LVL', 'NT$',\n",
       "       '₱', 'MYR', 'PKR', 'BDT', 'NPR'], dtype=object)"
      ]
     },
     "execution_count": 17,
     "metadata": {},
     "output_type": "execute_result"
    }
   ],
   "source": [
    "df_movie[\"budget_unit\"].unique()\n",
    "# if there exist a \\xa0, replace it with a ' '\n",
    "df_movie[\"budget_unit\"] = df_movie[\"budget_unit\"].map(lambda x: x.replace(\"\\xa0\", \"\").replace(\"\\u202fCFA\", \"\"))\n",
    "df_movie[\"budget_unit\"].unique()"
   ]
  },
  {
   "cell_type": "code",
   "execution_count": 18,
   "metadata": {},
   "outputs": [],
   "source": [
    "currency_conversion = {\n",
    "    '$': 1,    # Đô la Mỹ\n",
    "    'A$': 0.75,  # Đô la Úc\n",
    "    '£': 1.32,   # Bảng Anh\n",
    "    'SEK': 0.11,  # Krona Thụy Điển\n",
    "    'DKK': 0.16,  # Krone Đan Mạch\n",
    "    '₹': 0.014,  # Rupee Ấn Độ\n",
    "    '€': 1.18,   # Euro\n",
    "    'CA$': 0.75,  # Đô la Canada\n",
    "    'DEM': 0.61,  # Đức Mark\n",
    "    '¥': 0.007,    # Yên Nhật\n",
    "    'TRL': 0.13,  # Lira Thổ Nhĩ Kỳ\n",
    "    'R$': 0.19,   # Real\n",
    "    'CN¥': 0.15,  # Nhân dân tệ\n",
    "    'PLN': 0.27,  # Zloty Ba Lan\n",
    "    'FRF': 0.18,  # Pháp Franc\n",
    "    '₩': 0.00084, # Won Hàn Quốc\n",
    "    'FIM': 0.18,  # Markka Phần Lan\n",
    "    'RUR': 0.013, # Ruble Nga\n",
    "    'SGD': 0.74,  # Đô la Singapore\n",
    "    'HUF': 0.0034,# Forint Hungary\n",
    "    'NOK': 0.11,  # Krone Na Uy\n",
    "    'MX$': 0.049, # Peso Mexico\n",
    "    'NZ$': 0.69,  # Đô la New Zealand\n",
    "    'HK$': 0.13,  # Đô la Hồng Kông\n",
    "    'IDR': 0.000071, # Rupiah Indonesia\n",
    "    'ESP': 0.0066, # Peseta Tây Ban Nha\n",
    "    'ISK': 0.0079, # Króna Iceland\n",
    "    'CHF': 1.09,  # Franc Thụy Sĩ\n",
    "    'VEB': 0.0000000000000001, # Bolívar Venezuela\n",
    "    'ALL': 0.0094, # Lek Albania\n",
    "    'PKR': 0.0059, # Rupee Pakistan\n",
    "    'BEF': 0.031, # Franc Bỉ\n",
    "    'EGP': 0.064, # Bảng Ai Cập\n",
    "    'DOP': 0.017, # Peso Dominica\n",
    "    'ZAR': 0.067, # Rand Nam Phi\n",
    "    'NGN': 0.0026, # Naira Nigeria\n",
    "    'THB': 0.032, # Baht Thái Lan\n",
    "    'IRR': 0.000024, # Rial Iran\n",
    "    'LTL': 0.32, # Litas Litva\n",
    "    'BDT': 0.012, # Taka Bangladesh\n",
    "    'MYR': 0.24, # Ringgit Malaysia\n",
    "    'LKR': 0.0054, # Rupee Sri Lanka\n",
    "    'NT$': 0.035, # Đô la Đài Loan\n",
    "    'CZK': 0.044, # Koruna Cộng hòa Séc\n",
    "    'ARS': 0.011, # Peso Argentina\n",
    "    'GEL': 0.31, # Lari Georgia\n",
    "    'MNT': 0.00035, # Tugrik Mông Cổ\n",
    "    'UZS': 0.000095, # Som Uzbekistan\n",
    "    '₱': 0.021, # Peso Philipin\n",
    "    'NLG': 0.59, # Guilder Hà Lan\n",
    "    'ITL': 0.00061, # Lira Ý\n",
    "    'NAD': 0.067, # Đô la Namibia\n",
    "    'ROL': 0.00024, # Leu Rumani\n",
    "    'EEK': 0.075, # Kroon Estonia\n",
    "    'GTQ': 0.13, # Quetzal Guatemala\n",
    "    'HNL': 0.041, # Lempira Honduras\n",
    "    'XAU': 1.88, # Vàng\n",
    "    'AED': 0.27, # Dirham UAE\n",
    "    'COP': 0.00027, # Peso Colombia\n",
    "    'PEN': 0.29, # Sol Peru\n",
    "    'MOP': 0.12, # Pataca Ma Cao\n",
    "    'SIT': 0.0059, # Tolar Slovenia\n",
    "    'NPR': 0.0085, # Rupee Nepal\n",
    "    'PTE': 0.0059, # Escudo Bồ Đào Nha\n",
    "    '₪': 4.06,\n",
    "    'BGL': 0.61, # Lev Bulgaria\n",
    "    'MAD': 0.11, # Dirham Ma-rốc\n",
    "    'UAH': 0.037, # Hryvnia Ukraina\n",
    "    'MKD': 0.019, # Denar Macedonia\n",
    "    'KES': 0.0092, # Shilling Kenya\n",
    "    'HRK': 0.16, # Kuna Croatia\n",
    "    'KWD': 3.29, # Dinar Kuwait\n",
    "    'MMK': 0.00074, # Kyat Myanma\n",
    "    'KZT': 0.0024, # Tenge Kazakhstan\n",
    "    'AZM': 0.00012, # Manat Azerbaijan\n",
    "    'GHC': 0.00018, # Cedi Ghana\n",
    "    'JOD': 1.41, # Dinar Jordan\n",
    "    '₫': 0.000043, # Đồng Việt Nam\n",
    "    'ANG': 0.56, # Guilder Antille thuộc Hà Lan\n",
    "    'LVL': 1.59, # Lats Latvia\n",
    "    'MVR': 0.064, # Rufiyaa Maldives\n",
    "    'LUF': 0.031, # Franc Luxembourg\n",
    "    'UGX': 0.00027, # Shilling Uganda\n",
    "    'IQD': 0.00084, # Dinar Iraq\n",
    "    'GRD' : 0.0031, # Drachma Hy Lạp\n",
    "    'LYD' : 0.23, # Dinar Libya\n",
    "    'BYR' : 0.000041, # Ruble Belarus\n",
    "    'AMD' : 0.0021, # Dram Armenia\n",
    "    'TTD' : 0.15, # Đô la Trinidad và Tobago\n",
    "    'RON' : 0.24, # Leu Romania\n",
    "    'ATS' : 0.073, # Schilling Áo\n",
    "    'BAM' : 0.61, # Mark Bosnia và Herzegovina\n",
    "    'BSD' : 1, # Đô la Bahamas\n",
    "    'OMR' : 2.60, # Rial Oman\n",
    "    'CLP' : 0.0013, # Peso Chile\n",
    "    'BHD' : 2.65, # Dinar Bahrain\n",
    "    'SZL' : 0.067, # Lilangeni Swaziland\n",
    "    'KGS' : 0.012, # Som Kyrgyzstan\n",
    "    'ZMK' : 0.00011, # Kwacha Zambia\n",
    "    'SLL' : 0.00010, # Leone Sierra Leone\n",
    "    'TZS' : 0.00043, # Shilling Tanzania\n",
    "    'DZD' : 0.0074, # Dinar Algeria\n",
    "    'F' : 0.18, # Franc Pháp\n",
    "    'TND' : 0.37, # Dinar Tunisia\n",
    "    'CDF' : 0.00055, # Franc Congo\n",
    "    'KHR' : 0.00025, # Riel Campuchia\n",
    "    'AFA' : 0.014, # Afghani Afghanistan\n",
    "    'BTN' : 0.013, # Ngultrum Bhutan\n",
    "    'YUM' : 0.55, # Dinar Nam Tư\n",
    "    'ETB' : 0.018, # Birr Ethiopia\n",
    "    'CRC' : 0.0019, # Colón Costa Rica\n",
    "    'TMM' : 0.29, # Manat Turkmenistan\n",
    "    'QAR' : 0.27, # Rial Qatar\n",
    "    'SYP' : 0.00008, # Bảng Syria\n",
    "    'PYG' : 0.00015, # Guarani Paraguay\n",
    "    'MUR' : 0.022, # Rupee Mauritius\n",
    "    'FJD' : 0.45, # Đô la Fiji\n",
    "    'IEP' : 1.40, # Bảng Ireland\n",
    "    'SOS' : 0.0017, # Shilling Somalia\n",
    "    'CUP' : 0.038, # Peso Cuba\n",
    "    'SDD' : 0.0000166968, # Dinar Sudan\n",
    "    'ZWD' : 0.0029, # Đô la Zimbabwe\n",
    "    'EC$' : 0.37, # Đô la Đông Caribê\n",
    "    'UYU' : 0.023, # Peso Uruguay\n",
    "    'BOB' : 0.15, # Boliviano Bolivia\n",
    "    'LBP' : 0.00066, # Bảng Li-băng\n",
    "    'SKK' : 0.036, # Koruna Slovakia\n",
    "    'RWF' : 0.0010, # Franc Rwanda\n",
    "    'BIF' : 0.00052, # Franc Burundi\n",
    "    'JMD' : 0.0067, # Đô la Jamaica\n",
    "    'FCFA' : 0.0018, # Franc CFA Trung Phi\n",
    "    'MTL' : 0.00028, # Lira Malta\n",
    "    'KPW' : 0.0011, # Won Triều Tiên\n",
    "    'BBD'  : 0.50, # Đô la Barbados\n",
    "    'AWG' : 0.56, # Florin Aruba\n",
    "}\n",
    "\n",
    "def convert_budget_to_usd(row):\n",
    "    if row['budget_unit'] in currency_conversion:\n",
    "        # Convert the extracted budget to float and apply the exchange rate\n",
    "        return float(row['estimated_budget']) * currency_conversion[row['budget_unit']]\n",
    "    return float(row['estimated_budget'])\n",
    "\n",
    "# Apply the conversion function to create a 'budget_usd' column\n",
    "df_movie[\"budget_unit\"].fillna('USD', inplace=True)  # Assuming missing units are USD\n",
    "df_movie['budget_usd'] = df_movie.apply(convert_budget_to_usd, axis=1)"
   ]
  },
  {
   "cell_type": "code",
   "execution_count": 19,
   "metadata": {},
   "outputs": [],
   "source": [
    "df_movie[\"gross\"] = df_movie[\"gross\"].astype(str)\n",
    "df_movie[\"gross\"] = df_movie[\"gross\"].map(lambda x: x.replace(\",\", \"\"))\n",
    "# split digit part and character part\n",
    "df_movie[\"estimated_gross\"] = df_movie[\"gross\"].str.extract(\"(\\d+)\")\n",
    "df_movie[\"gross_unit\"] = df_movie[\"gross\"].str.extract(\"(\\D+)\")"
   ]
  },
  {
   "cell_type": "code",
   "execution_count": 20,
   "metadata": {},
   "outputs": [
    {
     "data": {
      "text/plain": [
       "array(['nan', '$', '₹'], dtype=object)"
      ]
     },
     "execution_count": 20,
     "metadata": {},
     "output_type": "execute_result"
    }
   ],
   "source": [
    "# get all the unique values of budget_unit\n",
    "df_movie[\"gross_unit\"].unique()\n",
    "# if there exist a \\xa0, replace it with a ' '\n",
    "df_movie[\"gross_unit\"] = df_movie[\"gross_unit\"].map(lambda x: x.replace(\"\\xa0\", \"\").replace(\"\\u202fCFA\", \"\"))\n",
    "df_movie[\"gross_unit\"].unique()"
   ]
  },
  {
   "cell_type": "code",
   "execution_count": 21,
   "metadata": {},
   "outputs": [],
   "source": [
    "currency_conversion = {\n",
    "    '$': 1,    # Đô la Mỹ\n",
    "    '₹': 0.014,  # Rupee Ấn Độ\n",
    "}\n",
    "\n",
    "def convert_gross_to_usd(row):\n",
    "    if row['gross_unit'] in currency_conversion:\n",
    "        # Convert the extracted budget to float and apply the exchange rate\n",
    "        return float(row['estimated_gross']) * currency_conversion[row['gross_unit']]\n",
    "    return float(row['estimated_gross'])\n",
    "\n",
    "# Apply the conversion function to create a 'budget_usd' column\n",
    "df_movie[\"gross_unit\"].fillna('USD', inplace=True)  # Assuming missing units are USD\n",
    "df_movie['gross_usd'] = df_movie.apply(convert_gross_to_usd, axis=1)"
   ]
  },
  {
   "cell_type": "code",
   "execution_count": 22,
   "metadata": {},
   "outputs": [],
   "source": [
    "# Extract wins and nominations and create new columns\n",
    "wins = df_movie['win_and_nomination'].str.extract(r'(\\d+) wins?')\n",
    "nominations = df_movie['win_and_nomination'].str.extract(r'(\\d+) nominations?')\n",
    "\n",
    "# Fill missing values with 0\n",
    "wins.fillna(0, inplace=True)\n",
    "nominations.fillna(0, inplace=True)\n",
    "\n",
    "# Add the extracted columns to the DataFrame\n",
    "df_movie['win'] = wins\n",
    "df_movie['nomination'] = nominations"
   ]
  },
  {
   "cell_type": "code",
   "execution_count": 23,
   "metadata": {},
   "outputs": [],
   "source": [
    "# url -> movie_id\n",
    "df_movie['movie_id'] = df_movie['url'].str.split('/').str[-2]"
   ]
  },
  {
   "cell_type": "code",
   "execution_count": 24,
   "metadata": {},
   "outputs": [],
   "source": [
    "# drop column budget_unit, gross_unit, win_and_nomination\n",
    "df_movie = df_movie.drop(['budget_unit', 'gross_unit', 'win_and_nomination'], axis=1)"
   ]
  },
  {
   "cell_type": "code",
   "execution_count": 25,
   "metadata": {},
   "outputs": [
    {
     "data": {
      "text/plain": [
       "0"
      ]
     },
     "execution_count": 25,
     "metadata": {},
     "output_type": "execute_result"
    }
   ],
   "source": [
    "# check if there is any duplicate movie_id\n",
    "df_movie = df_movie.drop_duplicates(subset=['movie_id'])\n",
    "df_movie['movie_id'].duplicated().sum()"
   ]
  },
  {
   "cell_type": "code",
   "execution_count": 26,
   "metadata": {},
   "outputs": [],
   "source": [
    "df_movie.drop(['url', 'budget', 'gross', 'estimated_budget','estimated_gross'], axis=1, inplace=True)"
   ]
  },
  {
   "cell_type": "code",
   "execution_count": 27,
   "metadata": {},
   "outputs": [],
   "source": [
    "# save the data\n",
    "df_movie.to_csv('../data/cleaned/cleaned_movies_details.csv', index=False)"
   ]
  },
  {
   "cell_type": "code",
   "execution_count": 29,
   "metadata": {},
   "outputs": [],
   "source": [
    "valid_movie_ids = set(df_rating['movie_id'].unique())\n",
    "filtered_df_movie = df_movie[df_movie['movie_id'].isin(valid_movie_ids)]\n",
    "\n",
    "filtered_df_rating = df_rating[df_rating['movie_id'].isin(filtered_df_movie['movie_id'])]\n",
    "\n",
    "filtered_df_movie.to_csv('../data/cleaned/cleaned_movies_for_rating.csv', index=False)\n",
    "filtered_df_rating.to_csv('../data/cleaned/cleaned_user_rating.csv', index=False)"
   ]
  }
 ],
 "metadata": {
  "kernelspec": {
   "display_name": "Python 3",
   "language": "python",
   "name": "python3"
  },
  "language_info": {
   "codemirror_mode": {
    "name": "ipython",
    "version": 3
   },
   "file_extension": ".py",
   "mimetype": "text/x-python",
   "name": "python",
   "nbconvert_exporter": "python",
   "pygments_lexer": "ipython3",
   "version": "3.12.7"
  }
 },
 "nbformat": 4,
 "nbformat_minor": 2
}
