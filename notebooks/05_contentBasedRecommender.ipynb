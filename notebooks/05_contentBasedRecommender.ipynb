{
 "cells": [
  {
   "cell_type": "code",
   "execution_count": 1,
   "metadata": {},
   "outputs": [],
   "source": [
    "import numpy as np\n",
    "import pandas as pd\n",
    "import math\n",
    "from itertools import product\n",
    "from tqdm import tqdm\n",
    "import pickle\n",
    "import csv\n",
    "from matplotlib import pyplot as plt\n",
    "import urllib\n",
    "from PIL import Image\n",
    "import random\n",
    "from sklearn.metrics.pairwise import cosine_distances, linear_kernel"
   ]
  },
  {
   "cell_type": "code",
   "execution_count": 2,
   "metadata": {},
   "outputs": [
    {
     "data": {
      "text/html": [
       "<div>\n",
       "<style scoped>\n",
       "    .dataframe tbody tr th:only-of-type {\n",
       "        vertical-align: middle;\n",
       "    }\n",
       "\n",
       "    .dataframe tbody tr th {\n",
       "        vertical-align: top;\n",
       "    }\n",
       "\n",
       "    .dataframe thead th {\n",
       "        text-align: right;\n",
       "    }\n",
       "</style>\n",
       "<table border=\"1\" class=\"dataframe\">\n",
       "  <thead>\n",
       "    <tr style=\"text-align: right;\">\n",
       "      <th></th>\n",
       "      <th>user_id</th>\n",
       "      <th>movie_id</th>\n",
       "      <th>rating</th>\n",
       "      <th>user_id_number</th>\n",
       "      <th>movie_id_number</th>\n",
       "    </tr>\n",
       "  </thead>\n",
       "  <tbody>\n",
       "    <tr>\n",
       "      <th>0</th>\n",
       "      <td>ur127508339</td>\n",
       "      <td>tt7737800</td>\n",
       "      <td>8</td>\n",
       "      <td>0</td>\n",
       "      <td>0</td>\n",
       "    </tr>\n",
       "    <tr>\n",
       "      <th>1</th>\n",
       "      <td>ur6312156</td>\n",
       "      <td>tt7737800</td>\n",
       "      <td>8</td>\n",
       "      <td>1</td>\n",
       "      <td>0</td>\n",
       "    </tr>\n",
       "    <tr>\n",
       "      <th>2</th>\n",
       "      <td>ur150453978</td>\n",
       "      <td>tt7737800</td>\n",
       "      <td>1</td>\n",
       "      <td>2</td>\n",
       "      <td>0</td>\n",
       "    </tr>\n",
       "    <tr>\n",
       "      <th>3</th>\n",
       "      <td>ur18519281</td>\n",
       "      <td>tt7737800</td>\n",
       "      <td>3</td>\n",
       "      <td>3</td>\n",
       "      <td>0</td>\n",
       "    </tr>\n",
       "    <tr>\n",
       "      <th>4</th>\n",
       "      <td>ur0806494</td>\n",
       "      <td>tt7737800</td>\n",
       "      <td>7</td>\n",
       "      <td>4</td>\n",
       "      <td>0</td>\n",
       "    </tr>\n",
       "  </tbody>\n",
       "</table>\n",
       "</div>"
      ],
      "text/plain": [
       "       user_id   movie_id  rating  user_id_number  movie_id_number\n",
       "0  ur127508339  tt7737800       8               0                0\n",
       "1    ur6312156  tt7737800       8               1                0\n",
       "2  ur150453978  tt7737800       1               2                0\n",
       "3   ur18519281  tt7737800       3               3                0\n",
       "4    ur0806494  tt7737800       7               4                0"
      ]
     },
     "execution_count": 2,
     "metadata": {},
     "output_type": "execute_result"
    }
   ],
   "source": [
    "rating_df = pd.read_csv('../data/cleaned/cleaned_user_rating.csv')\n",
    "rating_df_copy = rating_df.copy()\n",
    "movies_df = pd.read_csv('../data/cleaned/cleaned_movies_details.csv')\n",
    "\n",
    "rating_df.head()\n",
    "\n",
    "rating_df_copy['user_id_number'], user_mapping = pd.factorize(rating_df_copy['user_id'])\n",
    "rating_df_copy['movie_id_number'], movie_mapping = pd.factorize(rating_df_copy['movie_id'])\n",
    "assert(rating_df_copy['user_id_number'].nunique() == rating_df_copy['user_id'].nunique())\n",
    "assert(rating_df_copy['movie_id_number'].nunique() == rating_df_copy['movie_id'].nunique())\n",
    "\n",
    "rating_df_copy.head()"
   ]
  },
  {
   "cell_type": "code",
   "execution_count": 3,
   "metadata": {},
   "outputs": [
    {
     "name": "stdout",
     "output_type": "stream",
     "text": [
      "Number of users:  173693\n",
      "Number of movies:  18662\n"
     ]
    }
   ],
   "source": [
    "n_users = rating_df_copy['user_id_number'].max() + 1\n",
    "n_movies = rating_df_copy['movie_id_number'].max() + 1\n",
    "print(\"Number of users: \", n_users)\n",
    "print(\"Number of movies: \", n_movies)"
   ]
  },
  {
   "cell_type": "code",
   "execution_count": 4,
   "metadata": {},
   "outputs": [],
   "source": [
    "user_id_to_number = {user_mapping[i]: i for i in range(len(user_mapping))}\n",
    "movie_id_to_number = {movie_mapping[i]: i for i in range(len(movie_mapping))}\n",
    "number_to_user_id = {i: user_mapping[i] for i in range(len(user_mapping))}\n",
    "number_to_movie_id = {i: movie_mapping[i] for i in range(len(movie_mapping))}\n",
    "movie_id_to_index = {movie_id: idx for idx, movie_id in enumerate(movies_df['movie_id'])}"
   ]
  },
  {
   "cell_type": "code",
   "execution_count": 5,
   "metadata": {},
   "outputs": [
    {
     "name": "stdout",
     "output_type": "stream",
     "text": [
      "User_id number:  1\n",
      "Movie_id number:  18660\n"
     ]
    }
   ],
   "source": [
    "user_id = 'ur6312156'\n",
    "user_id_number = user_id_to_number[user_id]\n",
    "print('User_id number: ', user_id_number)\n",
    "assert(number_to_user_id[user_id_number] == user_id)\n",
    "\n",
    "movie_id = 'tt0062292'\n",
    "movie_id_number = movie_id_to_number[movie_id]\n",
    "print('Movie_id number: ', movie_id_number)\n",
    "assert(number_to_movie_id[movie_id_number] == movie_id)"
   ]
  },
  {
   "cell_type": "code",
   "execution_count": 6,
   "metadata": {},
   "outputs": [],
   "source": [
    "new_id_start = n_movies\n",
    "\n",
    "# Function to assign or create a movie_id_number\n",
    "def assign_movie_id_number(movie_id):\n",
    "    global new_id_start\n",
    "    if movie_id not in movie_id_to_number:\n",
    "        movie_id_to_number[movie_id] = new_id_start\n",
    "        number_to_movie_id[new_id_start] = movie_id\n",
    "        new_id_start += 1\n",
    "    return movie_id_to_number[movie_id]\n",
    "\n",
    "# Apply the function to create the 'movie_id_number' column\n",
    "movies_df['movie_id_number'] = movies_df['movie_id'].apply(assign_movie_id_number)"
   ]
  },
  {
   "cell_type": "code",
   "execution_count": 7,
   "metadata": {},
   "outputs": [
    {
     "data": {
      "text/plain": [
       "array([[0, 0, 8],\n",
       "       [1, 0, 8],\n",
       "       [2, 0, 1],\n",
       "       [3, 0, 3],\n",
       "       [4, 0, 7]])"
      ]
     },
     "execution_count": 7,
     "metadata": {},
     "output_type": "execute_result"
    }
   ],
   "source": [
    "rating_data = rating_df_copy[['user_id_number', 'movie_id_number', 'rating']].to_numpy()\n",
    "rating_data[:5]"
   ]
  },
  {
   "cell_type": "code",
   "execution_count": 8,
   "metadata": {},
   "outputs": [],
   "source": [
    "def split_ratings_by_user(data, train_ratio=0.6, val_ratio=0.2, random_state=420):\n",
    "    \"\"\"\n",
    "    Split ratings for each user into train, validation, and test sets\n",
    "    with 60:20:20 split and maintaining rating count distribution.\n",
    "    \"\"\"\n",
    "    np.random.seed(random_state)\n",
    "    \n",
    "    # Initialize empty lists for split data\n",
    "    train_data_list, val_data_list, test_data_list = [], [], []\n",
    "    \n",
    "    # Group ratings by user using a dictionary for better efficiency\n",
    "    user_groups = {}\n",
    "    for row in data:\n",
    "        user_groups.setdefault(row[0], []).append(row)\n",
    "    \n",
    "    for user_ratings in user_groups.values():\n",
    "        user_ratings = np.array(user_ratings)\n",
    "        total_ratings = len(user_ratings)\n",
    "        \n",
    "        # Shuffle user ratings to ensure randomness\n",
    "        np.random.shuffle(user_ratings)\n",
    "        \n",
    "        # Calculate split indices\n",
    "        train_end = math.ceil(total_ratings * train_ratio)\n",
    "        val_end = train_end + math.ceil(total_ratings * val_ratio)\n",
    "        \n",
    "        # Append splits\n",
    "        train_data_list.append(user_ratings[:train_end])\n",
    "        val_data_list.append(user_ratings[train_end:val_end])\n",
    "        test_data_list.append(user_ratings[val_end:])\n",
    "    \n",
    "    # Concatenate all users' split data\n",
    "    train_data = np.vstack(train_data_list)\n",
    "    val_data = np.vstack(val_data_list)\n",
    "    test_data = np.vstack(test_data_list)\n",
    "    \n",
    "    return train_data, val_data, test_data"
   ]
  },
  {
   "cell_type": "code",
   "execution_count": 9,
   "metadata": {},
   "outputs": [],
   "source": [
    "train_data, val_data, test_data = split_ratings_by_user(rating_data)"
   ]
  },
  {
   "cell_type": "code",
   "execution_count": 10,
   "metadata": {},
   "outputs": [],
   "source": [
    "movies_df['genres'] = movies_df['genres'].fillna('Unknown')\n",
    "movies_df['director'] = movies_df['director'].fillna('Unknown')\n",
    "movies_df['stars'] = movies_df['stars'].fillna('Unknown')\n",
    "movies_df['duration'] = movies_df['duration'].fillna(0)  # Default duration as 0\n",
    "movies_df['rating'] = movies_df['rating'].fillna(0.0)    # Default rating as 0.0\n",
    "movies_df['oscar'] = movies_df['oscar'].fillna(0)        # Default oscar count as 0\n",
    "movies_df['country'] = movies_df['country'].fillna('Unknown')\n",
    "movies_df['overview'] = movies_df['overview'].fillna('No overview available')\n",
    "\n",
    "movies_df['info'] = 'Genres: ' + movies_df['genres'] + '\\n' \\\n",
    "                    + 'Director: ' + movies_df['director'] + '\\n' \\\n",
    "                    + 'Cast: ' + movies_df['stars'] + '\\n' \\\n",
    "                    + 'Duration: ' + movies_df['duration'].astype(str) + ' minutes \\n' \\\n",
    "                    + 'Average rating: ' + movies_df['rating'].astype(str) + '\\n' \\\n",
    "                    + 'Number of oscars: ' + movies_df['oscar'].astype(str) + '\\n' \\\n",
    "                    + 'Country: ' + movies_df['country'] + '\\n' \\\n",
    "                    + 'Overview: ' + movies_df['overview']"
   ]
  },
  {
   "cell_type": "code",
   "execution_count": 11,
   "metadata": {},
   "outputs": [
    {
     "name": "stdout",
     "output_type": "stream",
     "text": [
      "Genres: Adventure,Drama,Fantasy,Horror\n",
      "Director: Francesco Bertolini\n",
      "Cast: Salvatore Papa,Arturo Pirovano,Giuseppe de Liguoro\n",
      "Duration: 71 minutes \n",
      "Average rating: 7.0\n",
      "Number of oscars: 0\n",
      "Country: Italy\n",
      "Overview: 1911 silent film and Italy's first full-length feature film, loosely adapted from \"Inferno\", the first canticle of Dante Alighieri's \"Divine Comedy\". It chronicles Dante's travel through the Circles of Hell, guided by the poet Virgil.\n"
     ]
    }
   ],
   "source": [
    "print(movies_df['info'][0])"
   ]
  },
  {
   "cell_type": "code",
   "execution_count": 12,
   "metadata": {},
   "outputs": [
    {
     "name": "stdout",
     "output_type": "stream",
     "text": [
      "(19108, 768)\n"
     ]
    }
   ],
   "source": [
    "# Embedding of movie info\n",
    "\n",
    "embeddings = np.load('../checkpoints/embeddings.npz')['embeds']\n",
    "print(embeddings.shape)"
   ]
  },
  {
   "cell_type": "code",
   "execution_count": 13,
   "metadata": {},
   "outputs": [],
   "source": [
    "def evaluate_recommendation(cf_model, test_data, n_movies, n_top=5):\n",
    "    hit_ratios, ndcg_scores = [], []\n",
    "\n",
    "    unique_users = np.unique(test_data[:, 0])\n",
    "    for u in tqdm(unique_users, desc=\"Evaluating Users\"):\n",
    "        user_test_ratings = test_data[test_data[:, 0] == u]\n",
    "        high_rated_test_movies = user_test_ratings[user_test_ratings[:, 2] >= 8, 1]\n",
    "\n",
    "        if len(high_rated_test_movies) != 0:\n",
    "            train_movies = cf_model.train_data[cf_model.train_data[:, 0] == u, 1]\n",
    "            all_movies = np.arange(n_movies)\n",
    "            unrated_movies = all_movies[~np.isin(all_movies, np.concatenate([train_movies, user_test_ratings[:, 1]]))]\n",
    "\n",
    "            sampled_unrated_movies = np.random.choice(unrated_movies, 99, replace=False)\n",
    "\n",
    "            hit_ratio = 0\n",
    "            dcg = 0\n",
    "            for high_rated_movie in high_rated_test_movies:\n",
    "                candidate_movies = np.concatenate([[high_rated_movie], sampled_unrated_movies])\n",
    "                movie_scores = {i: cf_model.pred(u, i) for i in candidate_movies}\n",
    "                \n",
    "                sorted_movies = sorted(movie_scores, key=movie_scores.get, reverse=True)[:n_top]\n",
    "\n",
    "                if high_rated_movie in sorted_movies:\n",
    "                    hit_ratio += 1\n",
    "                    rank = sorted_movies.index(high_rated_movie) + 1\n",
    "                    dcg += 1 / math.log2(rank + 1)\n",
    "\n",
    "            hit_ratios.append(hit_ratio / len(high_rated_test_movies))\n",
    "            ndcg_scores.append(dcg / len(high_rated_test_movies))\n",
    "\n",
    "    return np.mean(hit_ratios), np.mean(ndcg_scores)"
   ]
  },
  {
   "cell_type": "markdown",
   "metadata": {},
   "source": [
    "## Recommend based on movie_id"
   ]
  },
  {
   "cell_type": "markdown",
   "metadata": {},
   "source": [
    "### Using cosine similarity of Google's embeddings"
   ]
  },
  {
   "cell_type": "code",
   "execution_count": 14,
   "metadata": {},
   "outputs": [],
   "source": [
    "# Precompute cosine distances between all movie embeddings\n",
    "cosine_dist_matrix = cosine_distances(embeddings)"
   ]
  },
  {
   "cell_type": "code",
   "execution_count": 15,
   "metadata": {},
   "outputs": [],
   "source": [
    "def get_similar_movies(movieid, movies_df, movieid_to_index, cosine_dist_matrix, top_k=5):\n",
    "    if movieid not in movieid_to_index:\n",
    "        raise ValueError('Movie ID does not exist.')\n",
    "    \n",
    "    # Get the index of the target movie\n",
    "    index = movieid_to_index[movieid]\n",
    "    \n",
    "    # Retrieve the similarity scores for the target movie\n",
    "    similarity_scores = 1 - cosine_dist_matrix[index]\n",
    "    \n",
    "    # Exclude the target movie by setting its similarity score to a very low value\n",
    "    similarity_scores[index] = -np.inf\n",
    "    \n",
    "    # Get the indices of the top-k most similar movies\n",
    "    top_indices = np.argsort(similarity_scores)[-top_k:][::-1]  # Sort descending\n",
    "    \n",
    "    # Print target movie information\n",
    "    movie_info = movies_df.iloc[index]\n",
    "    print('Target movie name:', movie_info['title'])\n",
    "    print('Target movie info:\\n', movie_info['info'])\n",
    "    print('------------------')\n",
    "    \n",
    "    # Retrieve and print information for the top-k similar movies\n",
    "    for i, similar_index in enumerate(top_indices):\n",
    "        similar_movie_info = movies_df.iloc[similar_index]\n",
    "        print(f\"Similar movie {i + 1} name: {similar_movie_info['title']}\")\n",
    "        print(f\"Similar movie {i + 1} info:\\n{similar_movie_info['info']}\")\n",
    "        print('------------------')"
   ]
  },
  {
   "cell_type": "code",
   "execution_count": 16,
   "metadata": {},
   "outputs": [
    {
     "name": "stdout",
     "output_type": "stream",
     "text": [
      "Target movie name: Avengers: Endgame\n",
      "Target movie info:\n",
      " Genres: Action,Adventure,Drama,Sci-Fi\n",
      "Director: Anthony Russo\n",
      "Cast: Robert Downey Jr.,Chris Evans,Mark Ruffalo\n",
      "Duration: 181 minutes \n",
      "Average rating: 8.4\n",
      "Number of oscars: 0\n",
      "Country: United States\n",
      "Overview: After the devastating events of Avengers: Infinity War (2018), the universe is in ruins. With the help of remaining allies, the Avengers assemble once more in order to reverse Thanos' actions and restore balance to the universe.\n",
      "------------------\n",
      "Similar movie 1 name: Avengers: Infinity War\n",
      "Similar movie 1 info:\n",
      "Genres: Action,Adventure,Sci-Fi\n",
      "Director: Anthony Russo\n",
      "Cast: Robert Downey Jr.,Chris Hemsworth,Mark Ruffalo\n",
      "Duration: 149 minutes \n",
      "Average rating: 8.4\n",
      "Number of oscars: 0\n",
      "Country: United States\n",
      "Overview: The Avengers and their allies must be willing to sacrifice all in an attempt to defeat the powerful Thanos before his blitz of devastation and ruin puts an end to the universe.\n",
      "------------------\n",
      "Similar movie 2 name: Captain America: Civil War\n",
      "Similar movie 2 info:\n",
      "Genres: Action,Sci-Fi\n",
      "Director: Anthony Russo\n",
      "Cast: Chris Evans,Robert Downey Jr.,Scarlett Johansson\n",
      "Duration: 147 minutes \n",
      "Average rating: 7.8\n",
      "Number of oscars: 0\n",
      "Country: United States\n",
      "Overview: Political involvement in the Avengers' affairs causes a rift between Captain America and Iron Man.\n",
      "------------------\n",
      "Similar movie 3 name: Avengers: Age of Ultron\n",
      "Similar movie 3 info:\n",
      "Genres: Action,Adventure,Sci-Fi\n",
      "Director: Joss Whedon\n",
      "Cast: Robert Downey Jr.,Chris Evans,Mark Ruffalo\n",
      "Duration: 141 minutes \n",
      "Average rating: 7.3\n",
      "Number of oscars: 0\n",
      "Country: United States\n",
      "Overview: When Tony Stark and Bruce Banner try to jump-start a dormant peacekeeping program called Ultron, things go horribly wrong and it's up to Earth's mightiest heroes to stop the villainous Ultron from enacting his terrible plan.\n",
      "------------------\n",
      "Similar movie 4 name: The Avengers\n",
      "Similar movie 4 info:\n",
      "Genres: Action,Sci-Fi\n",
      "Director: Joss Whedon\n",
      "Cast: Robert Downey Jr.,Chris Evans,Scarlett Johansson\n",
      "Duration: 143 minutes \n",
      "Average rating: 8.0\n",
      "Number of oscars: 0\n",
      "Country: United States\n",
      "Overview: Earth's mightiest heroes must come together and learn to fight as a team if they are going to stop the mischievous Loki and his alien army from enslaving humanity.\n",
      "------------------\n",
      "Similar movie 5 name: Captain America: The Winter Soldier\n",
      "Similar movie 5 info:\n",
      "Genres: Action,Adventure,Sci-Fi,Thriller\n",
      "Director: Anthony Russo\n",
      "Cast: Chris Evans,Samuel L. Jackson,Scarlett Johansson\n",
      "Duration: 136 minutes \n",
      "Average rating: 7.7\n",
      "Number of oscars: 0\n",
      "Country: United States\n",
      "Overview: As Steve Rogers struggles to embrace his role in the modern world, he teams up with a fellow Avenger and S.H.I.E.L.D agent, Black Widow, to battle a new threat from history: an assassin known as the Winter Soldier.\n",
      "------------------\n"
     ]
    }
   ],
   "source": [
    "get_similar_movies('tt4154796', movies_df, movie_id_to_index, cosine_dist_matrix)"
   ]
  },
  {
   "cell_type": "markdown",
   "metadata": {},
   "source": [
    "### Evaluation"
   ]
  },
  {
   "cell_type": "code",
   "execution_count": 17,
   "metadata": {},
   "outputs": [],
   "source": [
    "sim_matrix = linear_kernel(embeddings, embeddings)"
   ]
  },
  {
   "cell_type": "code",
   "execution_count": 18,
   "metadata": {},
   "outputs": [],
   "source": [
    "class ContentBasedRecommender:\n",
    "    def __init__(self, sim_matrix, train_data):\n",
    "        self.sim_matrix = sim_matrix\n",
    "        self.train_data = train_data\n",
    "\n",
    "    def pred(self, user_id, movie_id):\n",
    "        # Get movies rated by the user in training data\n",
    "        user_train_ratings = self.train_data[self.train_data[:, 0] == user_id]\n",
    "        if len(user_train_ratings) == 0:\n",
    "            return 5  # No training data for user\n",
    "\n",
    "        # Weighted average similarity score\n",
    "        rated_movie_ids = user_train_ratings[:, 1].astype(int)\n",
    "        rated_movie_scores = user_train_ratings[:, 2].astype(float)\n",
    "        sim_scores = self.sim_matrix[movie_id, rated_movie_ids]\n",
    "\n",
    "        # Weighted average\n",
    "        return np.dot(sim_scores, rated_movie_scores) / np.sum(sim_scores)"
   ]
  },
  {
   "cell_type": "code",
   "execution_count": 21,
   "metadata": {},
   "outputs": [
    {
     "name": "stderr",
     "output_type": "stream",
     "text": [
      "Evaluating Users: 100%|██████████| 16317/16317 [33:52<00:00,  8.03it/s]\n",
      "Validation - Hit Ratio: 0.0790, NDCG: 0.0583\n",
      "Evaluating Users: 100%|██████████| 16317/16317 [34:23<00:00,  7.91it/s]\n",
      "Test - Hit Ratio: 0.0804, NDCG: 0.0584\n"
     ]
    }
   ],
   "source": [
    "cf_model = ContentBasedRecommender(sim_matrix, train_data)\n",
    "\n",
    "hit_ratio, ndcg = evaluate_recommendation(cf_model, val_data, n_movies)\n",
    "print(f\"Validation - Hit Ratio: {hit_ratio:.4f}, NDCG: {ndcg:.4f}\")\n",
    "\n",
    "hit_ratio, ndcg = evaluate_recommendation(cf_model, test_data, n_movies)\n",
    "print(f\"Test - Hit Ratio: {hit_ratio:.4f}, NDCG: {ndcg:.4f}\")"
   ]
  }
 ],
 "metadata": {
  "kernelspec": {
   "display_name": "NguyenTuanHiep",
   "language": "python",
   "name": "python3"
  },
  "language_info": {
   "codemirror_mode": {
    "name": "ipython",
    "version": 3
   },
   "file_extension": ".py",
   "mimetype": "text/x-python",
   "name": "python",
   "nbconvert_exporter": "python",
   "pygments_lexer": "ipython3",
   "version": "3.13.0"
  }
 },
 "nbformat": 4,
 "nbformat_minor": 2
}
